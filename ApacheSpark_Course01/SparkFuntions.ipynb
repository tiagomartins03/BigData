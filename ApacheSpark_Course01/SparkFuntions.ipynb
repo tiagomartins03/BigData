{
 "cells": [
  {
   "cell_type": "code",
   "execution_count": 2,
   "metadata": {},
   "outputs": [],
   "source": [
    "#Importing PySpark\n",
    "from pyspark.sql import SparkSession\n"
   ]
  },
  {
   "cell_type": "code",
   "execution_count": 3,
   "metadata": {},
   "outputs": [],
   "source": [
    "#Sating Apache Session\n",
    "spark = (\n",
    "    SparkSession.builder.appName('Curso de Pyspark ')\n",
    "    .config('spark.sql.repl.eagerEval.enabled',True)\n",
    "    .getOrCreate()\n",
    ")"
   ]
  },
  {
   "cell_type": "code",
   "execution_count": 4,
   "metadata": {},
   "outputs": [],
   "source": [
    "df = spark.read.csv('databases\\LOGINS.csv', sep = ';', header=True)"
   ]
  },
  {
   "cell_type": "code",
   "execution_count": 5,
   "metadata": {},
   "outputs": [
    {
     "name": "stdout",
     "output_type": "stream",
     "text": [
      "+--------------+--------------------+----------+------------------+------+-------------+---------------+------------+--------------------+-------------------+\n",
      "|           cpf|               email|     senha|data_de_nascimento|estado|data_cadastro|           ipv4|cor_favorita|           profissao|           telefone|\n",
      "+--------------+--------------------+----------+------------------+------+-------------+---------------+------------+--------------------+-------------------+\n",
      "|981.507.362-12|pedro-lucas53@gma...|+7^7E%xFBc|        2006-12-18|    RR|   2023-02-26| 99.107.250.210|        Roxo|    Jogador De Golfe|       31 7785-4046|\n",
      "|493.705.168-75|rezendeisaac@hotm...|_O_2GRnGOe|        1992-06-17|    GO|   2023-02-16|  197.11.26.213|       Ciano|Atleta De Arremes...|    (031) 0803-6753|\n",
      "|398.471.625-73|felipepires@uol.c...|*Aw5EOAvy9|        1921-11-11|    MG|   2023-01-02|   181.90.63.58|        Azul|      Papiloscopista|       11 9674-0553|\n",
      "|092.618.354-06|stellamoraes@bol....|mw0AWYAs#s|        2021-06-01|    AC|   2023-01-08|  26.121.127.94|      Marrom|            Aeromoça|+55 (071) 3033 9177|\n",
      "|509.427.136-99| wcarvalho@ig.com.br|pGD%!2Pq5X|        1969-10-28|    AP|   2023-02-14|  76.184.52.163|     Laranja|       Fonoaudiólogo|+55 (071) 6272 2468|\n",
      "|218.795.460-94|da-conceicaodavi-...|uhBbFxPA&9|        1986-05-19|    MG|   2023-03-07|    192.93.0.24|        Rosa|             Taxista|   +55 84 0652 9691|\n",
      "|715.836.940-48| efreitas@bol.com.br|s#q9VZt&xl|        2018-04-20|    MG|   2023-01-13| 76.251.188.148|      Branco|Produtor De Audio...|+55 (084) 1363 0052|\n",
      "|475.698.032-56|   wnunes@bol.com.br|_8az1W%n7g|        1996-05-12|    SE|   2023-02-04|139.196.176.154|        Azul|          Cadeirinha|    (071) 1640-3388|\n",
      "|217.639.540-99| jribeiro@bol.com.br|MEf1X7fj_0|        2021-10-05|    PA|   2023-03-02|    71.22.224.5|      Marrom|             Geólogo|       21 1432 4092|\n",
      "|261.938.750-77|  murilo05@gmail.com|Te&gO7GkKs|        1917-01-05|    MT|   2023-02-21| 136.54.123.165|      Marrom|      Técnico De Som|+55 (084) 5878-3346|\n",
      "|520.831.796-68| joaquim57@ig.com.br|&2E1NY+ARc|        1912-05-25|    BA|   2023-01-25| 78.196.255.126|        Rosa|         Esteticista|       41 7914-3753|\n",
      "|413.087.526-44|alexiada-rocha@ig...|@f@!Z!2c*2|        1920-05-26|    MS|   2023-02-18|  182.61.65.201|     Laranja|        Microfonista|    (021) 3739-2944|\n",
      "|509.287.143-14|   pmendes@gmail.com|M+^XDBfe(2|        1938-03-11|    RR|   2023-01-19|  61.234.208.17| Verde Claro|              Fiscal|+55 (084) 5940-1932|\n",
      "|563.170.492-70|  renan46@bol.com.br|Rp%2pVqfe$|        1922-09-01|    PA|   2023-02-01| 122.203.83.177|Verde Escuro|        Contabilista|   +55 41 6248 5773|\n",
      "|098.712.346-78|manuelada-rosa@ho...|#hEIEOztQ3|        2013-01-10|    SE|   2023-01-07|  175.18.73.211|     Violeta| Seguidor De Compras|       51 0278 0564|\n",
      "|345.709.261-34|    usales@ig.com.br|b_8xaY$ozJ|        1992-10-16|    AM|   2023-01-05|    97.93.29.75|        Rosa|           Almirante|    (084) 8993-4521|\n",
      "|318.254.906-51|pereiranicolas@ho...|YA9I85Wb+2|        1945-11-18|    MA|   2023-01-24| 182.195.33.137|     Amarelo|   Consultor De Moda|    (084) 4591 3795|\n",
      "|610.287.453-62|cardosolivia@ig.c...|yXkDW7Ebh*|        1915-11-15|    GO|   2023-01-22| 195.194.63.184|     Laranja|            Barbeiro|   +55 61 8967-9563|\n",
      "|615.790.842-49|  brenda39@ig.com.br|XS$84Hpsnw|        1964-02-01|    RJ|   2023-02-16|  21.252.226.29|      Branco|  Promotor De Vendas|+55 (021) 4751 2004|\n",
      "|624.095.138-24|luizapeixoto@gmai...|TbKy82Kda$|        1959-02-01|    DF|   2023-02-25|  105.107.23.13|       Ciano|    Implantodontista|       84 1293 1906|\n",
      "+--------------+--------------------+----------+------------------+------+-------------+---------------+------------+--------------------+-------------------+\n",
      "only showing top 20 rows\n",
      "\n"
     ]
    }
   ],
   "source": [
    "df.show()"
   ]
  },
  {
   "cell_type": "code",
   "execution_count": 6,
   "metadata": {},
   "outputs": [],
   "source": [
    "#Using Parquet\n",
    "df2 = spark.read.parquet('databases\\LOGINS.parquet')"
   ]
  },
  {
   "cell_type": "markdown",
   "metadata": {},
   "source": [
    "# Query"
   ]
  },
  {
   "cell_type": "code",
   "execution_count": 7,
   "metadata": {},
   "outputs": [
    {
     "data": {
      "text/html": [
       "<table border='1'>\n",
       "<tr><th>data_de_nascimento</th><th>estado</th></tr>\n",
       "<tr><td>2006-12-18</td><td>RR</td></tr>\n",
       "<tr><td>1992-06-17</td><td>GO</td></tr>\n",
       "<tr><td>1921-11-11</td><td>MG</td></tr>\n",
       "<tr><td>2021-06-01</td><td>AC</td></tr>\n",
       "<tr><td>1969-10-28</td><td>AP</td></tr>\n",
       "<tr><td>1986-05-19</td><td>MG</td></tr>\n",
       "<tr><td>2018-04-20</td><td>MG</td></tr>\n",
       "<tr><td>1996-05-12</td><td>SE</td></tr>\n",
       "<tr><td>2021-10-05</td><td>PA</td></tr>\n",
       "<tr><td>1917-01-05</td><td>MT</td></tr>\n",
       "<tr><td>1912-05-25</td><td>BA</td></tr>\n",
       "<tr><td>1920-05-26</td><td>MS</td></tr>\n",
       "<tr><td>1938-03-11</td><td>RR</td></tr>\n",
       "<tr><td>1922-09-01</td><td>PA</td></tr>\n",
       "<tr><td>2013-01-10</td><td>SE</td></tr>\n",
       "<tr><td>1992-10-16</td><td>AM</td></tr>\n",
       "<tr><td>1945-11-18</td><td>MA</td></tr>\n",
       "<tr><td>1915-11-15</td><td>GO</td></tr>\n",
       "<tr><td>1964-02-01</td><td>RJ</td></tr>\n",
       "<tr><td>1959-02-01</td><td>DF</td></tr>\n",
       "</table>\n",
       "only showing top 20 rows\n"
      ],
      "text/plain": [
       "+------------------+------+\n",
       "|data_de_nascimento|estado|\n",
       "+------------------+------+\n",
       "|        2006-12-18|    RR|\n",
       "|        1992-06-17|    GO|\n",
       "|        1921-11-11|    MG|\n",
       "|        2021-06-01|    AC|\n",
       "|        1969-10-28|    AP|\n",
       "|        1986-05-19|    MG|\n",
       "|        2018-04-20|    MG|\n",
       "|        1996-05-12|    SE|\n",
       "|        2021-10-05|    PA|\n",
       "|        1917-01-05|    MT|\n",
       "|        1912-05-25|    BA|\n",
       "|        1920-05-26|    MS|\n",
       "|        1938-03-11|    RR|\n",
       "|        1922-09-01|    PA|\n",
       "|        2013-01-10|    SE|\n",
       "|        1992-10-16|    AM|\n",
       "|        1945-11-18|    MA|\n",
       "|        1915-11-15|    GO|\n",
       "|        1964-02-01|    RJ|\n",
       "|        1959-02-01|    DF|\n",
       "+------------------+------+\n",
       "only showing top 20 rows"
      ]
     },
     "execution_count": 7,
     "metadata": {},
     "output_type": "execute_result"
    }
   ],
   "source": [
    "#Creating a Query\n",
    "df2.select('data_de_nascimento','estado')"
   ]
  },
  {
   "cell_type": "code",
   "execution_count": 8,
   "metadata": {},
   "outputs": [],
   "source": [
    "#Second way to create a Query\n",
    "# (df2\n",
    "    #  .select(df2.cpf)\n",
    "    #  )\n",
    "\n",
    "#Third option to create a Query\n",
    "    # df2.select(df2['cpf'])\n",
    "\n",
    "#Forth way to create a selection\n",
    "    # from pyspark.sql.functions import  col\n",
    "    # import pyspark.sql.functions as F\n",
    "    # df2.select(F.col('data_de_nascimento'))\n",
    "\n",
    "#Select all columns\n",
    "    #df2.select('*')\n",
    "\n",
    "#Select all except one\n",
    "    #df2.drop('cpf')\n"
   ]
  },
  {
   "cell_type": "markdown",
   "metadata": {},
   "source": [
    "# Filtering Values"
   ]
  },
  {
   "cell_type": "code",
   "execution_count": 9,
   "metadata": {},
   "outputs": [
    {
     "data": {
      "text/html": [
       "<table border='1'>\n",
       "<tr><th>cpf</th><th>email</th><th>senha</th><th>data_de_nascimento</th><th>estado</th><th>data_cadastro</th><th>ipv4</th><th>cor_favorita</th><th>profissao</th><th>telefone</th></tr>\n",
       "<tr><td>398.471.625-73</td><td>felipepires@uol.c...</td><td>*Aw5EOAvy9</td><td>1921-11-11</td><td>MG</td><td>2023-01-02</td><td>181.90.63.58</td><td>Azul</td><td>Papiloscopista</td><td>11 9674-0553</td></tr>\n",
       "<tr><td>218.795.460-94</td><td>da-conceicaodavi-...</td><td>uhBbFxPA&amp;9</td><td>1986-05-19</td><td>MG</td><td>2023-03-07</td><td>192.93.0.24</td><td>Rosa</td><td>Taxista</td><td>+55 84 0652 9691</td></tr>\n",
       "<tr><td>715.836.940-48</td><td>efreitas@bol.com.br</td><td>s#q9VZt&amp;xl</td><td>2018-04-20</td><td>MG</td><td>2023-01-13</td><td>76.251.188.148</td><td>Branco</td><td>Produtor De Audio...</td><td>+55 (084) 1363 0052</td></tr>\n",
       "<tr><td>348.215.690-51</td><td>omoreira@bol.com.br</td><td>!8maDkdVnY</td><td>2008-10-24</td><td>MG</td><td>2023-02-20</td><td>177.2.242.176</td><td>Verde Escuro</td><td>Adestrador De Ani...</td><td>+55 61 3217-9930</td></tr>\n",
       "<tr><td>137.964.520-43</td><td>natalia72@ig.com.br</td><td>i71MdCj2*^</td><td>1939-06-26</td><td>MG</td><td>2023-02-03</td><td>141.28.225.40</td><td>Branco</td><td>Espeleologista</td><td>(041) 8471 8007</td></tr>\n",
       "<tr><td>790.482.315-23</td><td>noaharagao@hotmai...</td><td>#i_LhbOX52</td><td>1922-03-19</td><td>MG</td><td>2023-01-25</td><td>170.188.237.119</td><td>Preto</td><td>Empacotador</td><td>+55 (031) 9156-3903</td></tr>\n",
       "<tr><td>872.041.936-87</td><td>fsilva@yahoo.com.br</td><td>B+E9r_CkU^</td><td>1926-05-20</td><td>MG</td><td>2023-01-04</td><td>220.1.100.77</td><td>Marrom</td><td>Mecânico De Vôo</td><td>(031) 9834-4568</td></tr>\n",
       "<tr><td>832.714.650-53</td><td>ijesus@gmail.com</td><td>JLr@1Mlr!Z</td><td>1983-05-21</td><td>MG</td><td>2023-01-25</td><td>84.142.120.51</td><td>Roxo</td><td>Ministro</td><td>81 9463-7374</td></tr>\n",
       "<tr><td>529.610.873-68</td><td>barbosajuliana@bo...</td><td>$!3Td!uO%^</td><td>2016-09-03</td><td>MG</td><td>2023-02-15</td><td>85.36.21.190</td><td>Amarelo</td><td>Lenhador</td><td>(061) 3713 1708</td></tr>\n",
       "<tr><td>198.256.734-19</td><td>valentina08@ig.co...</td><td>@BJV)ATd!8</td><td>1962-01-11</td><td>MG</td><td>2023-02-23</td><td>4.122.66.211</td><td>Verde</td><td>Atuário</td><td>71 4313-7632</td></tr>\n",
       "<tr><td>568.037.192-86</td><td>correiabreno@uol....</td><td>+7Msf8JW$)</td><td>1979-04-29</td><td>MG</td><td>2023-01-16</td><td>94.151.189.72</td><td>Roxo</td><td>Guia Turistico</td><td>61 5868-4411</td></tr>\n",
       "<tr><td>915.074.832-79</td><td>jnunes@ig.com.br</td><td>$Z1&amp;Su4H+k</td><td>1917-09-13</td><td>MG</td><td>2023-01-28</td><td>68.252.77.213</td><td>Rosa</td><td>Chaveiro</td><td>0800-497-4568</td></tr>\n",
       "<tr><td>512.346.879-09</td><td>santosmiguel@bol....</td><td>3qYeSpr2$i</td><td>1948-11-14</td><td>MG</td><td>2023-01-02</td><td>23.111.181.66</td><td>Roxo</td><td>Mecânico</td><td>(051) 0292-9648</td></tr>\n",
       "<tr><td>012.469.857-30</td><td>diasrebeca@uol.co...</td><td>E%0%8VUeID</td><td>1936-03-01</td><td>MG</td><td>2023-02-18</td><td>172.155.210.224</td><td>Cinza</td><td>Engenheiro De Aqu...</td><td>(041) 9158 0476</td></tr>\n",
       "<tr><td>032.548.967-00</td><td>rochaagatha@uol.c...</td><td>azXJMV)0*2</td><td>1995-03-04</td><td>MG</td><td>2023-02-09</td><td>2.55.79.36</td><td>Laranja</td><td>Odontologista Pre...</td><td>31 5789 4432</td></tr>\n",
       "<tr><td>863.051.924-05</td><td>pintoryan@uol.com.br</td><td>P5jNqf8U*^</td><td>1932-10-30</td><td>MG</td><td>2023-03-01</td><td>139.5.71.51</td><td>Branco</td><td>Odontopediatra</td><td>31 5503 6600</td></tr>\n",
       "<tr><td>706.135.948-00</td><td>ana-vitoriafernan...</td><td>ye!oooXy$0</td><td>1935-05-09</td><td>MG</td><td>2023-02-11</td><td>103.28.141.203</td><td>Amarelo</td><td>Cientista De Alim...</td><td>71 0827-8838</td></tr>\n",
       "<tr><td>513.780.269-77</td><td>kaiqueda-cunha@bo...</td><td>gtn&amp;GsT^^5</td><td>1984-01-17</td><td>MG</td><td>2023-03-08</td><td>218.106.248.244</td><td>Verde Escuro</td><td>Taxidermista/Emba...</td><td>+55 (021) 9610-2123</td></tr>\n",
       "<tr><td>829.617.354-91</td><td>diegojesus@gmail.com</td><td>M6yxjF!w^G</td><td>2017-04-10</td><td>MG</td><td>2023-01-09</td><td>6.1.173.123</td><td>Violeta</td><td>Empresário</td><td>(041) 3905-6942</td></tr>\n",
       "<tr><td>068.234.915-15</td><td>stephany16@yahoo....</td><td>R7GnyM+M(w</td><td>1969-09-13</td><td>MG</td><td>2023-01-09</td><td>139.126.79.210</td><td>Azul Escuro</td><td>Adestrador De Ani...</td><td>31 3341 1801</td></tr>\n",
       "</table>\n",
       "only showing top 20 rows\n"
      ],
      "text/plain": [
       "+--------------+--------------------+----------+------------------+------+-------------+---------------+------------+--------------------+-------------------+\n",
       "|           cpf|               email|     senha|data_de_nascimento|estado|data_cadastro|           ipv4|cor_favorita|           profissao|           telefone|\n",
       "+--------------+--------------------+----------+------------------+------+-------------+---------------+------------+--------------------+-------------------+\n",
       "|398.471.625-73|felipepires@uol.c...|*Aw5EOAvy9|        1921-11-11|    MG|   2023-01-02|   181.90.63.58|        Azul|      Papiloscopista|       11 9674-0553|\n",
       "|218.795.460-94|da-conceicaodavi-...|uhBbFxPA&9|        1986-05-19|    MG|   2023-03-07|    192.93.0.24|        Rosa|             Taxista|   +55 84 0652 9691|\n",
       "|715.836.940-48| efreitas@bol.com.br|s#q9VZt&xl|        2018-04-20|    MG|   2023-01-13| 76.251.188.148|      Branco|Produtor De Audio...|+55 (084) 1363 0052|\n",
       "|348.215.690-51| omoreira@bol.com.br|!8maDkdVnY|        2008-10-24|    MG|   2023-02-20|  177.2.242.176|Verde Escuro|Adestrador De Ani...|   +55 61 3217-9930|\n",
       "|137.964.520-43| natalia72@ig.com.br|i71MdCj2*^|        1939-06-26|    MG|   2023-02-03|  141.28.225.40|      Branco|      Espeleologista|    (041) 8471 8007|\n",
       "|790.482.315-23|noaharagao@hotmai...|#i_LhbOX52|        1922-03-19|    MG|   2023-01-25|170.188.237.119|       Preto|         Empacotador|+55 (031) 9156-3903|\n",
       "|872.041.936-87| fsilva@yahoo.com.br|B+E9r_CkU^|        1926-05-20|    MG|   2023-01-04|   220.1.100.77|      Marrom|     Mecânico De Vôo|    (031) 9834-4568|\n",
       "|832.714.650-53|    ijesus@gmail.com|JLr@1Mlr!Z|        1983-05-21|    MG|   2023-01-25|  84.142.120.51|        Roxo|            Ministro|       81 9463-7374|\n",
       "|529.610.873-68|barbosajuliana@bo...|$!3Td!uO%^|        2016-09-03|    MG|   2023-02-15|   85.36.21.190|     Amarelo|            Lenhador|    (061) 3713 1708|\n",
       "|198.256.734-19|valentina08@ig.co...|@BJV)ATd!8|        1962-01-11|    MG|   2023-02-23|   4.122.66.211|       Verde|             Atuário|       71 4313-7632|\n",
       "|568.037.192-86|correiabreno@uol....|+7Msf8JW$)|        1979-04-29|    MG|   2023-01-16|  94.151.189.72|        Roxo|      Guia Turistico|       61 5868-4411|\n",
       "|915.074.832-79|    jnunes@ig.com.br|$Z1&Su4H+k|        1917-09-13|    MG|   2023-01-28|  68.252.77.213|        Rosa|            Chaveiro|      0800-497-4568|\n",
       "|512.346.879-09|santosmiguel@bol....|3qYeSpr2$i|        1948-11-14|    MG|   2023-01-02|  23.111.181.66|        Roxo|            Mecânico|    (051) 0292-9648|\n",
       "|012.469.857-30|diasrebeca@uol.co...|E%0%8VUeID|        1936-03-01|    MG|   2023-02-18|172.155.210.224|       Cinza|Engenheiro De Aqu...|    (041) 9158 0476|\n",
       "|032.548.967-00|rochaagatha@uol.c...|azXJMV)0*2|        1995-03-04|    MG|   2023-02-09|     2.55.79.36|     Laranja|Odontologista Pre...|       31 5789 4432|\n",
       "|863.051.924-05|pintoryan@uol.com.br|P5jNqf8U*^|        1932-10-30|    MG|   2023-03-01|    139.5.71.51|      Branco|      Odontopediatra|       31 5503 6600|\n",
       "|706.135.948-00|ana-vitoriafernan...|ye!oooXy$0|        1935-05-09|    MG|   2023-02-11| 103.28.141.203|     Amarelo|Cientista De Alim...|       71 0827-8838|\n",
       "|513.780.269-77|kaiqueda-cunha@bo...|gtn&GsT^^5|        1984-01-17|    MG|   2023-03-08|218.106.248.244|Verde Escuro|Taxidermista/Emba...|+55 (021) 9610-2123|\n",
       "|829.617.354-91|diegojesus@gmail.com|M6yxjF!w^G|        2017-04-10|    MG|   2023-01-09|    6.1.173.123|     Violeta|          Empresário|    (041) 3905-6942|\n",
       "|068.234.915-15|stephany16@yahoo....|R7GnyM+M(w|        1969-09-13|    MG|   2023-01-09| 139.126.79.210| Azul Escuro|Adestrador De Ani...|       31 3341 1801|\n",
       "+--------------+--------------------+----------+------------------+------+-------------+---------------+------------+--------------------+-------------------+\n",
       "only showing top 20 rows"
      ]
     },
     "execution_count": 9,
     "metadata": {},
     "output_type": "execute_result"
    }
   ],
   "source": [
    "#Filtering values\n",
    "df2.filter(df2['estado']=='MG')\n",
    "\n",
    "#Second Option to Filter\n",
    "    #DF3 = df2[df2['estado']=='MG']\n",
    "    #DF3.describe\n",
    "    \n",
    "#Third option to use Filter\n",
    "    #df2.where(df2.cor_favorita.isin('Ciano')).filter(df.estado == 'GO')\n",
    "\n",
    "\n",
    "# Good practicie of multiples filters\n",
    "    # (df2\n",
    "    # .where(df2.estado == 'MG')\n",
    "    # .where(df2.profissao == 'Tenente')\n",
    "    # )\n",
    "\n",
    "\n"
   ]
  },
  {
   "cell_type": "markdown",
   "metadata": {},
   "source": [
    "# WithColumn\n"
   ]
  },
  {
   "cell_type": "code",
   "execution_count": 10,
   "metadata": {},
   "outputs": [],
   "source": [
    "import pyspark.sql.functions as F\n",
    "\n",
    "# df2_transformed = (df2.withColumn('nome_estados',\n",
    "#     F.when(col('estado') == 'AC', 'Acre')\n",
    "#     .when(col('estado') == 'AL', 'Alagoas')\n",
    "#     .when(col('estado') == 'AP', 'Amapá')\n",
    "#     .when(col('estado') == 'AM', 'Amazonas')\n",
    "#     .when(col('estado') == 'BA', 'Bahia')\n",
    "#     .when(col('estado') == 'CE', 'Ceará')\n",
    "#     .when(col('estado') == 'DF', 'Distrito Federal')\n",
    "#     .when(col('estado') == 'ES', 'Espírito Santo')\n",
    "#     .when(col('estado') == 'GO', 'Goiás')\n",
    "#     .when(col('estado') == 'MA', 'Maranhão')\n",
    "#     .when(col('estado') == 'MT', 'Mato Grosso')\n",
    "#     .when(col('estado') == 'MS', 'Mato Grosso do Sul')\n",
    "#     .when(col('estado') == 'MG', 'Minas Gerais')\n",
    "#     .when(col('estado') == 'PA', 'Pará')\n",
    "#     .when(col('estado') == 'PB', 'Paraíba')\n",
    "#     .when(col('estado') == 'PR', 'Paraná')\n",
    "#     .when(col('estado') == 'PE', 'Pernambuco')\n",
    "#     .when(col('estado') == 'PI', 'Piauí')\n",
    "#     .when(col('estado') == 'RJ', 'Rio de Janeiro')\n",
    "#     .when(col('estado') == 'RN', 'Rio Grande do Norte')\n",
    "#     .when(col('estado') == 'RS', 'Rio Grande do Sul')\n",
    "#     .when(col('estado') == 'RO', 'Rondônia')\n",
    "#     .when(col('estado') == 'RR', 'Roraima')\n",
    "#     .when(col('estado') == 'SC', 'Santa Catarina')\n",
    "#     .when(col('estado') == 'SP', 'São Paulo')\n",
    "#     .when(col('estado') == 'SE', 'Sergipe')\n",
    "#     .when(col('estado') == 'TO', 'Tocantins')\n",
    "#     .otherwise('Demais')\n",
    "# )\n",
    "# .withColumn('flagrosa',F.when(F.col('cor_favorita') == 'Rosa',1).otherwise(0))\n",
    "\n",
    "# )\n",
    "\n",
    "# df2_transformed.show()\n"
   ]
  },
  {
   "cell_type": "code",
   "execution_count": 38,
   "metadata": {},
   "outputs": [],
   "source": [
    "dfUsers = df2"
   ]
  },
  {
   "cell_type": "markdown",
   "metadata": {},
   "source": []
  },
  {
   "cell_type": "markdown",
   "metadata": {},
   "source": [
    "# String Manipulation\n"
   ]
  },
  {
   "cell_type": "code",
   "execution_count": 39,
   "metadata": {},
   "outputs": [
    {
     "name": "stdout",
     "output_type": "stream",
     "text": [
      "+------------------+------+--------------------+----------+-------------+\n",
      "|data_de_nascimento|estado|           profissao|  provedor|nome_provedor|\n",
      "+------------------+------+--------------------+----------+-------------+\n",
      "|        1921-11-11|    MG|      Papiloscopista|uol.com.br|          uol|\n",
      "|        2008-11-04|    GO| Promotor De Eventos|uol.com.br|          uol|\n",
      "|        2016-06-09|    MS|         Diagramador|uol.com.br|          uol|\n",
      "|        1934-11-26|    AM|           Triatleta|uol.com.br|          uol|\n",
      "|        1958-04-06|    AC|         Kite-Surfer|uol.com.br|          uol|\n",
      "|        2018-11-25|    MS|          Revendedor|uol.com.br|          uol|\n",
      "|        1991-03-05|    PE|         Retificador|uol.com.br|          uol|\n",
      "|        1982-07-26|    RJ|           Diplomata|uol.com.br|          uol|\n",
      "|        1910-04-02|    CE|            Sargento|uol.com.br|          uol|\n",
      "|        1941-08-25|    PI|     Ginasta Rítmica|uol.com.br|          uol|\n",
      "|        1936-01-31|    RR|  Jogador De Futebol|uol.com.br|          uol|\n",
      "|        2005-12-03|    PR|Piloto Automobilí...|uol.com.br|          uol|\n",
      "|        1995-01-19|    TO|      Gestor Público|uol.com.br|          uol|\n",
      "|        1911-08-03|    ES|        Clarinetista|uol.com.br|          uol|\n",
      "|        1986-01-28|    RO|          Intérprete|uol.com.br|          uol|\n",
      "|        1982-11-30|    SE| Engenheiro Acústico|uol.com.br|          uol|\n",
      "|        1990-03-16|    PE|    Técnico De Gesso|uol.com.br|          uol|\n",
      "|        1991-11-29|    DF|            Marechal|uol.com.br|          uol|\n",
      "|        1948-04-15|    RS|           Navegador|uol.com.br|          uol|\n",
      "|        1964-10-19|    CE|            Dublador|uol.com.br|          uol|\n",
      "+------------------+------+--------------------+----------+-------------+\n",
      "only showing top 20 rows\n",
      "\n"
     ]
    }
   ],
   "source": [
    "(\n",
    "    dfUsers\n",
    "    .withColumn('usuário',F.split('email','@').getItem(0))\n",
    "    .withColumn('provedor',F.split('email','@').getItem(1))\n",
    "    .withColumn('nome_provedor',F.split(F.col('provedor'),'\\.').getItem(0))\n",
    "    .select('data_de_nascimento','estado','profissao', 'provedor','nome_provedor' )\n",
    "    .where(F.col('nome_provedor') == 'uol')\n",
    "    .show()\n",
    "    \n",
    ")"
   ]
  },
  {
   "cell_type": "code",
   "execution_count": 35,
   "metadata": {},
   "outputs": [
    {
     "name": "stdout",
     "output_type": "stream",
     "text": [
      "+--------------+--------------------+----------+------------------+------+-------------+---------------+------------+--------------------+-------------------+--------------------+----------+--------------------+--------------------+---------+--------------------+-----+-----+----------+--------------------+\n",
      "|           cpf|               email|     senha|data_de_nascimento|estado|data_cadastro|           ipv4|cor_favorita|           profissao|           telefone|              concat|   concat2|               lower|             initcap|substring|       format_string|instr|Lenth|    repeat|                lpad|\n",
      "+--------------+--------------------+----------+------------------+------+-------------+---------------+------------+--------------------+-------------------+--------------------+----------+--------------------+--------------------+---------+--------------------+-----+-----+----------+--------------------+\n",
      "|981.507.362-12|pedro-lucas53@gma...|+7^7E%xFBc|        2006-12-18|    RR|   2023-02-26| 99.107.250.210|        Roxo|    Jogador De Golfe|       31 7785-4046|Jogador De GolfeRoxo|RR -Brasil|    jogador de golfe|    Jogador De Golfe|     Roxo|Olá, sua cor favo...|   14|   16|RRRRRRRRRR|    Jogador De Golfe|\n",
      "|493.705.168-75|rezendeisaac@hotm...|_O_2GRnGOe|        1992-06-17|    GO|   2023-02-16|  197.11.26.213|       Ciano|Atleta De Arremes...|    (031) 0803-6753|Atleta De Arremes...|GO -Brasil|atleta de arremes...|Atleta De Arremes...|    Ciano|Olá, sua cor favo...|   13|   27|GOGOGOGOGO|Atleta De Arremes...|\n",
      "|398.471.625-73|felipepires@uol.c...|*Aw5EOAvy9|        1921-11-11|    MG|   2023-01-02|   181.90.63.58|        Azul|      Papiloscopista|       11 9674-0553|  PapiloscopistaAzul|MG -Brasil|      papiloscopista|      Papiloscopista|     Azul|Olá, sua cor favo...|   12|   14|MGMGMGMGMG|      Papiloscopista|\n",
      "|092.618.354-06|stellamoraes@bol....|mw0AWYAs#s|        2021-06-01|    AC|   2023-01-08|  26.121.127.94|      Marrom|            Aeromoça|+55 (071) 3033 9177|      AeromoçaMarrom|AC -Brasil|            aeromoça|            Aeromoça|   Marrom|Olá, sua cor favo...|   13|    8|ACACACACAC|            Aeromoça|\n",
      "|509.427.136-99| wcarvalho@ig.com.br|pGD%!2Pq5X|        1969-10-28|    AP|   2023-02-14|  76.184.52.163|     Laranja|       Fonoaudiólogo|+55 (071) 6272 2468|FonoaudiólogoLaranja|AP -Brasil|       fonoaudiólogo|       Fonoaudiólogo|  Laranja|Olá, sua cor favo...|   10|   13|APAPAPAPAP|       Fonoaudiólogo|\n",
      "|218.795.460-94|da-conceicaodavi-...|uhBbFxPA&9|        1986-05-19|    MG|   2023-03-07|    192.93.0.24|        Rosa|             Taxista|   +55 84 0652 9691|         TaxistaRosa|MG -Brasil|             taxista|             Taxista|     Rosa|Olá, sua cor favo...|   23|    7|MGMGMGMGMG|             Taxista|\n",
      "|715.836.940-48| efreitas@bol.com.br|s#q9VZt&xl|        2018-04-20|    MG|   2023-01-13| 76.251.188.148|      Branco|Produtor De Audio...|+55 (084) 1363 0052|Produtor De Audio...|MG -Brasil|produtor de audio...|Produtor De Audio...|   Branco|Olá, sua cor favo...|    9|   24|MGMGMGMGMG|Produtor De Audio...|\n",
      "|475.698.032-56|   wnunes@bol.com.br|_8az1W%n7g|        1996-05-12|    SE|   2023-02-04|139.196.176.154|        Azul|          Cadeirinha|    (071) 1640-3388|      CadeirinhaAzul|SE -Brasil|          cadeirinha|          Cadeirinha|     Azul|Olá, sua cor favo...|    7|   10|SESESESESE|          Cadeirinha|\n",
      "|217.639.540-99| jribeiro@bol.com.br|MEf1X7fj_0|        2021-10-05|    PA|   2023-03-02|    71.22.224.5|      Marrom|             Geólogo|       21 1432 4092|       GeólogoMarrom|PA -Brasil|             geólogo|             Geólogo|   Marrom|Olá, sua cor favo...|    9|    7|PAPAPAPAPA|             Geólogo|\n",
      "|261.938.750-77|  murilo05@gmail.com|Te&gO7GkKs|        1917-01-05|    MT|   2023-02-21| 136.54.123.165|      Marrom|      Técnico De Som|+55 (084) 5878-3346|Técnico De SomMarrom|MT -Brasil|      técnico de som|      Técnico De Som|   Marrom|Olá, sua cor favo...|    9|   14|MTMTMTMTMT|      Técnico De Som|\n",
      "+--------------+--------------------+----------+------------------+------+-------------+---------------+------------+--------------------+-------------------+--------------------+----------+--------------------+--------------------+---------+--------------------+-----+-----+----------+--------------------+\n",
      "only showing top 10 rows\n",
      "\n"
     ]
    }
   ],
   "source": [
    "\n",
    "(\n",
    "df2\n",
    ".withColumn('concat',F.concat(df2.profissao,df2.cor_favorita))\n",
    ".withColumn('concat2',F.concat(df2.estado,F.lit(' -Brasil')))\n",
    ".withColumn('lower',F.lower(df2.profissao))\n",
    ".withColumn('initcap',F.initcap(df2.profissao))\n",
    ".withColumn('substring',F.substring(df2.cor_favorita,1,100))\n",
    ".withColumn('format_string',F.format_string('Olá, sua cor favorita é  %s',df2.cor_favorita)) \n",
    ".withColumn('instr',F.instr(df2.email,'@'))\n",
    ".withColumn('Lenth',F.length(df2.profissao))\n",
    ".withColumn('repeat',F.repeat(df2.estado,5))\n",
    ".withColumn('lpad',F.trim(df2.profissao))\n",
    "# .select('lpad',F.lpad(df2.cor_favorita,10,'>'))\n",
    ".show(10)\n",
    ")"
   ]
  },
  {
   "cell_type": "code",
   "execution_count": null,
   "metadata": {},
   "outputs": [],
   "source": []
  }
 ],
 "metadata": {
  "kernelspec": {
   "display_name": "base",
   "language": "python",
   "name": "python3"
  },
  "language_info": {
   "codemirror_mode": {
    "name": "ipython",
    "version": 3
   },
   "file_extension": ".py",
   "mimetype": "text/x-python",
   "name": "python",
   "nbconvert_exporter": "python",
   "pygments_lexer": "ipython3",
   "version": "3.10.9"
  }
 },
 "nbformat": 4,
 "nbformat_minor": 2
}
