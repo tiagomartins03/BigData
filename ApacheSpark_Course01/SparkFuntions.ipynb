{
 "cells": [
  {
   "cell_type": "code",
   "execution_count": 1,
   "metadata": {},
   "outputs": [],
   "source": [
    "#Importing PySpark\n",
    "from pyspark.sql import SparkSession\n"
   ]
  },
  {
   "cell_type": "code",
   "execution_count": 2,
   "metadata": {},
   "outputs": [],
   "source": [
    "#Sating Apache Session\n",
    "spark = (\n",
    "    SparkSession.builder.appName('Curso de Pyspark ')\n",
    "    .config('spark.sql.repl.eagerEval.enabled',True)\n",
    "    .getOrCreate()\n",
    ")"
   ]
  },
  {
   "cell_type": "code",
   "execution_count": 3,
   "metadata": {},
   "outputs": [],
   "source": [
    "df = spark.read.csv('databases\\LOGINS.csv', sep = ';', header=True)"
   ]
  },
  {
   "cell_type": "code",
   "execution_count": 4,
   "metadata": {},
   "outputs": [
    {
     "name": "stdout",
     "output_type": "stream",
     "text": [
      "+--------------+--------------------+----------+------------------+------+-------------+---------------+------------+--------------------+-------------------+\n",
      "|           cpf|               email|     senha|data_de_nascimento|estado|data_cadastro|           ipv4|cor_favorita|           profissao|           telefone|\n",
      "+--------------+--------------------+----------+------------------+------+-------------+---------------+------------+--------------------+-------------------+\n",
      "|981.507.362-12|pedro-lucas53@gma...|+7^7E%xFBc|        2006-12-18|    RR|   2023-02-26| 99.107.250.210|        Roxo|    Jogador De Golfe|       31 7785-4046|\n",
      "|493.705.168-75|rezendeisaac@hotm...|_O_2GRnGOe|        1992-06-17|    GO|   2023-02-16|  197.11.26.213|       Ciano|Atleta De Arremes...|    (031) 0803-6753|\n",
      "|398.471.625-73|felipepires@uol.c...|*Aw5EOAvy9|        1921-11-11|    MG|   2023-01-02|   181.90.63.58|        Azul|      Papiloscopista|       11 9674-0553|\n",
      "|092.618.354-06|stellamoraes@bol....|mw0AWYAs#s|        2021-06-01|    AC|   2023-01-08|  26.121.127.94|      Marrom|            Aeromoça|+55 (071) 3033 9177|\n",
      "|509.427.136-99| wcarvalho@ig.com.br|pGD%!2Pq5X|        1969-10-28|    AP|   2023-02-14|  76.184.52.163|     Laranja|       Fonoaudiólogo|+55 (071) 6272 2468|\n",
      "|218.795.460-94|da-conceicaodavi-...|uhBbFxPA&9|        1986-05-19|    MG|   2023-03-07|    192.93.0.24|        Rosa|             Taxista|   +55 84 0652 9691|\n",
      "|715.836.940-48| efreitas@bol.com.br|s#q9VZt&xl|        2018-04-20|    MG|   2023-01-13| 76.251.188.148|      Branco|Produtor De Audio...|+55 (084) 1363 0052|\n",
      "|475.698.032-56|   wnunes@bol.com.br|_8az1W%n7g|        1996-05-12|    SE|   2023-02-04|139.196.176.154|        Azul|          Cadeirinha|    (071) 1640-3388|\n",
      "|217.639.540-99| jribeiro@bol.com.br|MEf1X7fj_0|        2021-10-05|    PA|   2023-03-02|    71.22.224.5|      Marrom|             Geólogo|       21 1432 4092|\n",
      "|261.938.750-77|  murilo05@gmail.com|Te&gO7GkKs|        1917-01-05|    MT|   2023-02-21| 136.54.123.165|      Marrom|      Técnico De Som|+55 (084) 5878-3346|\n",
      "|520.831.796-68| joaquim57@ig.com.br|&2E1NY+ARc|        1912-05-25|    BA|   2023-01-25| 78.196.255.126|        Rosa|         Esteticista|       41 7914-3753|\n",
      "|413.087.526-44|alexiada-rocha@ig...|@f@!Z!2c*2|        1920-05-26|    MS|   2023-02-18|  182.61.65.201|     Laranja|        Microfonista|    (021) 3739-2944|\n",
      "|509.287.143-14|   pmendes@gmail.com|M+^XDBfe(2|        1938-03-11|    RR|   2023-01-19|  61.234.208.17| Verde Claro|              Fiscal|+55 (084) 5940-1932|\n",
      "|563.170.492-70|  renan46@bol.com.br|Rp%2pVqfe$|        1922-09-01|    PA|   2023-02-01| 122.203.83.177|Verde Escuro|        Contabilista|   +55 41 6248 5773|\n",
      "|098.712.346-78|manuelada-rosa@ho...|#hEIEOztQ3|        2013-01-10|    SE|   2023-01-07|  175.18.73.211|     Violeta| Seguidor De Compras|       51 0278 0564|\n",
      "|345.709.261-34|    usales@ig.com.br|b_8xaY$ozJ|        1992-10-16|    AM|   2023-01-05|    97.93.29.75|        Rosa|           Almirante|    (084) 8993-4521|\n",
      "|318.254.906-51|pereiranicolas@ho...|YA9I85Wb+2|        1945-11-18|    MA|   2023-01-24| 182.195.33.137|     Amarelo|   Consultor De Moda|    (084) 4591 3795|\n",
      "|610.287.453-62|cardosolivia@ig.c...|yXkDW7Ebh*|        1915-11-15|    GO|   2023-01-22| 195.194.63.184|     Laranja|            Barbeiro|   +55 61 8967-9563|\n",
      "|615.790.842-49|  brenda39@ig.com.br|XS$84Hpsnw|        1964-02-01|    RJ|   2023-02-16|  21.252.226.29|      Branco|  Promotor De Vendas|+55 (021) 4751 2004|\n",
      "|624.095.138-24|luizapeixoto@gmai...|TbKy82Kda$|        1959-02-01|    DF|   2023-02-25|  105.107.23.13|       Ciano|    Implantodontista|       84 1293 1906|\n",
      "+--------------+--------------------+----------+------------------+------+-------------+---------------+------------+--------------------+-------------------+\n",
      "only showing top 20 rows\n",
      "\n"
     ]
    }
   ],
   "source": [
    "df.show()"
   ]
  },
  {
   "cell_type": "code",
   "execution_count": 5,
   "metadata": {},
   "outputs": [],
   "source": [
    "#Using Parquet\n",
    "df2 = spark.read.parquet('databases\\LOGINS.parquet')"
   ]
  },
  {
   "cell_type": "markdown",
   "metadata": {},
   "source": [
    "# Query"
   ]
  },
  {
   "cell_type": "code",
   "execution_count": 6,
   "metadata": {},
   "outputs": [
    {
     "data": {
      "text/html": [
       "<table border='1'>\n",
       "<tr><th>data_de_nascimento</th><th>estado</th></tr>\n",
       "<tr><td>2006-12-18</td><td>RR</td></tr>\n",
       "<tr><td>1992-06-17</td><td>GO</td></tr>\n",
       "<tr><td>1921-11-11</td><td>MG</td></tr>\n",
       "<tr><td>2021-06-01</td><td>AC</td></tr>\n",
       "<tr><td>1969-10-28</td><td>AP</td></tr>\n",
       "<tr><td>1986-05-19</td><td>MG</td></tr>\n",
       "<tr><td>2018-04-20</td><td>MG</td></tr>\n",
       "<tr><td>1996-05-12</td><td>SE</td></tr>\n",
       "<tr><td>2021-10-05</td><td>PA</td></tr>\n",
       "<tr><td>1917-01-05</td><td>MT</td></tr>\n",
       "<tr><td>1912-05-25</td><td>BA</td></tr>\n",
       "<tr><td>1920-05-26</td><td>MS</td></tr>\n",
       "<tr><td>1938-03-11</td><td>RR</td></tr>\n",
       "<tr><td>1922-09-01</td><td>PA</td></tr>\n",
       "<tr><td>2013-01-10</td><td>SE</td></tr>\n",
       "<tr><td>1992-10-16</td><td>AM</td></tr>\n",
       "<tr><td>1945-11-18</td><td>MA</td></tr>\n",
       "<tr><td>1915-11-15</td><td>GO</td></tr>\n",
       "<tr><td>1964-02-01</td><td>RJ</td></tr>\n",
       "<tr><td>1959-02-01</td><td>DF</td></tr>\n",
       "</table>\n",
       "only showing top 20 rows\n"
      ],
      "text/plain": [
       "+------------------+------+\n",
       "|data_de_nascimento|estado|\n",
       "+------------------+------+\n",
       "|        2006-12-18|    RR|\n",
       "|        1992-06-17|    GO|\n",
       "|        1921-11-11|    MG|\n",
       "|        2021-06-01|    AC|\n",
       "|        1969-10-28|    AP|\n",
       "|        1986-05-19|    MG|\n",
       "|        2018-04-20|    MG|\n",
       "|        1996-05-12|    SE|\n",
       "|        2021-10-05|    PA|\n",
       "|        1917-01-05|    MT|\n",
       "|        1912-05-25|    BA|\n",
       "|        1920-05-26|    MS|\n",
       "|        1938-03-11|    RR|\n",
       "|        1922-09-01|    PA|\n",
       "|        2013-01-10|    SE|\n",
       "|        1992-10-16|    AM|\n",
       "|        1945-11-18|    MA|\n",
       "|        1915-11-15|    GO|\n",
       "|        1964-02-01|    RJ|\n",
       "|        1959-02-01|    DF|\n",
       "+------------------+------+\n",
       "only showing top 20 rows"
      ]
     },
     "execution_count": 6,
     "metadata": {},
     "output_type": "execute_result"
    }
   ],
   "source": [
    "#Creating a Query\n",
    "df2.select('data_de_nascimento','estado')"
   ]
  },
  {
   "cell_type": "code",
   "execution_count": 7,
   "metadata": {},
   "outputs": [],
   "source": [
    "#Second way to create a Query\n",
    "# (df2\n",
    "    #  .select(df2.cpf)\n",
    "    #  )\n",
    "\n",
    "#Third option to create a Query\n",
    "    # df2.select(df2['cpf'])\n",
    "\n",
    "#Forth way to create a selection\n",
    "    # from pyspark.sql.functions import  col\n",
    "    # import pyspark.sql.functions as F\n",
    "    # df2.select(F.col('data_de_nascimento'))\n",
    "\n",
    "#Select all columns\n",
    "    #df2.select('*')\n",
    "\n",
    "#Select all except one\n",
    "    #df2.drop('cpf')\n"
   ]
  },
  {
   "cell_type": "markdown",
   "metadata": {},
   "source": [
    "# Filtering Values"
   ]
  },
  {
   "cell_type": "code",
   "execution_count": 8,
   "metadata": {},
   "outputs": [
    {
     "data": {
      "text/html": [
       "<table border='1'>\n",
       "<tr><th>cpf</th><th>email</th><th>senha</th><th>data_de_nascimento</th><th>estado</th><th>data_cadastro</th><th>ipv4</th><th>cor_favorita</th><th>profissao</th><th>telefone</th></tr>\n",
       "<tr><td>398.471.625-73</td><td>felipepires@uol.c...</td><td>*Aw5EOAvy9</td><td>1921-11-11</td><td>MG</td><td>2023-01-02</td><td>181.90.63.58</td><td>Azul</td><td>Papiloscopista</td><td>11 9674-0553</td></tr>\n",
       "<tr><td>218.795.460-94</td><td>da-conceicaodavi-...</td><td>uhBbFxPA&amp;9</td><td>1986-05-19</td><td>MG</td><td>2023-03-07</td><td>192.93.0.24</td><td>Rosa</td><td>Taxista</td><td>+55 84 0652 9691</td></tr>\n",
       "<tr><td>715.836.940-48</td><td>efreitas@bol.com.br</td><td>s#q9VZt&amp;xl</td><td>2018-04-20</td><td>MG</td><td>2023-01-13</td><td>76.251.188.148</td><td>Branco</td><td>Produtor De Audio...</td><td>+55 (084) 1363 0052</td></tr>\n",
       "<tr><td>348.215.690-51</td><td>omoreira@bol.com.br</td><td>!8maDkdVnY</td><td>2008-10-24</td><td>MG</td><td>2023-02-20</td><td>177.2.242.176</td><td>Verde Escuro</td><td>Adestrador De Ani...</td><td>+55 61 3217-9930</td></tr>\n",
       "<tr><td>137.964.520-43</td><td>natalia72@ig.com.br</td><td>i71MdCj2*^</td><td>1939-06-26</td><td>MG</td><td>2023-02-03</td><td>141.28.225.40</td><td>Branco</td><td>Espeleologista</td><td>(041) 8471 8007</td></tr>\n",
       "<tr><td>790.482.315-23</td><td>noaharagao@hotmai...</td><td>#i_LhbOX52</td><td>1922-03-19</td><td>MG</td><td>2023-01-25</td><td>170.188.237.119</td><td>Preto</td><td>Empacotador</td><td>+55 (031) 9156-3903</td></tr>\n",
       "<tr><td>872.041.936-87</td><td>fsilva@yahoo.com.br</td><td>B+E9r_CkU^</td><td>1926-05-20</td><td>MG</td><td>2023-01-04</td><td>220.1.100.77</td><td>Marrom</td><td>Mecânico De Vôo</td><td>(031) 9834-4568</td></tr>\n",
       "<tr><td>832.714.650-53</td><td>ijesus@gmail.com</td><td>JLr@1Mlr!Z</td><td>1983-05-21</td><td>MG</td><td>2023-01-25</td><td>84.142.120.51</td><td>Roxo</td><td>Ministro</td><td>81 9463-7374</td></tr>\n",
       "<tr><td>529.610.873-68</td><td>barbosajuliana@bo...</td><td>$!3Td!uO%^</td><td>2016-09-03</td><td>MG</td><td>2023-02-15</td><td>85.36.21.190</td><td>Amarelo</td><td>Lenhador</td><td>(061) 3713 1708</td></tr>\n",
       "<tr><td>198.256.734-19</td><td>valentina08@ig.co...</td><td>@BJV)ATd!8</td><td>1962-01-11</td><td>MG</td><td>2023-02-23</td><td>4.122.66.211</td><td>Verde</td><td>Atuário</td><td>71 4313-7632</td></tr>\n",
       "<tr><td>568.037.192-86</td><td>correiabreno@uol....</td><td>+7Msf8JW$)</td><td>1979-04-29</td><td>MG</td><td>2023-01-16</td><td>94.151.189.72</td><td>Roxo</td><td>Guia Turistico</td><td>61 5868-4411</td></tr>\n",
       "<tr><td>915.074.832-79</td><td>jnunes@ig.com.br</td><td>$Z1&amp;Su4H+k</td><td>1917-09-13</td><td>MG</td><td>2023-01-28</td><td>68.252.77.213</td><td>Rosa</td><td>Chaveiro</td><td>0800-497-4568</td></tr>\n",
       "<tr><td>512.346.879-09</td><td>santosmiguel@bol....</td><td>3qYeSpr2$i</td><td>1948-11-14</td><td>MG</td><td>2023-01-02</td><td>23.111.181.66</td><td>Roxo</td><td>Mecânico</td><td>(051) 0292-9648</td></tr>\n",
       "<tr><td>012.469.857-30</td><td>diasrebeca@uol.co...</td><td>E%0%8VUeID</td><td>1936-03-01</td><td>MG</td><td>2023-02-18</td><td>172.155.210.224</td><td>Cinza</td><td>Engenheiro De Aqu...</td><td>(041) 9158 0476</td></tr>\n",
       "<tr><td>032.548.967-00</td><td>rochaagatha@uol.c...</td><td>azXJMV)0*2</td><td>1995-03-04</td><td>MG</td><td>2023-02-09</td><td>2.55.79.36</td><td>Laranja</td><td>Odontologista Pre...</td><td>31 5789 4432</td></tr>\n",
       "<tr><td>863.051.924-05</td><td>pintoryan@uol.com.br</td><td>P5jNqf8U*^</td><td>1932-10-30</td><td>MG</td><td>2023-03-01</td><td>139.5.71.51</td><td>Branco</td><td>Odontopediatra</td><td>31 5503 6600</td></tr>\n",
       "<tr><td>706.135.948-00</td><td>ana-vitoriafernan...</td><td>ye!oooXy$0</td><td>1935-05-09</td><td>MG</td><td>2023-02-11</td><td>103.28.141.203</td><td>Amarelo</td><td>Cientista De Alim...</td><td>71 0827-8838</td></tr>\n",
       "<tr><td>513.780.269-77</td><td>kaiqueda-cunha@bo...</td><td>gtn&amp;GsT^^5</td><td>1984-01-17</td><td>MG</td><td>2023-03-08</td><td>218.106.248.244</td><td>Verde Escuro</td><td>Taxidermista/Emba...</td><td>+55 (021) 9610-2123</td></tr>\n",
       "<tr><td>829.617.354-91</td><td>diegojesus@gmail.com</td><td>M6yxjF!w^G</td><td>2017-04-10</td><td>MG</td><td>2023-01-09</td><td>6.1.173.123</td><td>Violeta</td><td>Empresário</td><td>(041) 3905-6942</td></tr>\n",
       "<tr><td>068.234.915-15</td><td>stephany16@yahoo....</td><td>R7GnyM+M(w</td><td>1969-09-13</td><td>MG</td><td>2023-01-09</td><td>139.126.79.210</td><td>Azul Escuro</td><td>Adestrador De Ani...</td><td>31 3341 1801</td></tr>\n",
       "</table>\n",
       "only showing top 20 rows\n"
      ],
      "text/plain": [
       "+--------------+--------------------+----------+------------------+------+-------------+---------------+------------+--------------------+-------------------+\n",
       "|           cpf|               email|     senha|data_de_nascimento|estado|data_cadastro|           ipv4|cor_favorita|           profissao|           telefone|\n",
       "+--------------+--------------------+----------+------------------+------+-------------+---------------+------------+--------------------+-------------------+\n",
       "|398.471.625-73|felipepires@uol.c...|*Aw5EOAvy9|        1921-11-11|    MG|   2023-01-02|   181.90.63.58|        Azul|      Papiloscopista|       11 9674-0553|\n",
       "|218.795.460-94|da-conceicaodavi-...|uhBbFxPA&9|        1986-05-19|    MG|   2023-03-07|    192.93.0.24|        Rosa|             Taxista|   +55 84 0652 9691|\n",
       "|715.836.940-48| efreitas@bol.com.br|s#q9VZt&xl|        2018-04-20|    MG|   2023-01-13| 76.251.188.148|      Branco|Produtor De Audio...|+55 (084) 1363 0052|\n",
       "|348.215.690-51| omoreira@bol.com.br|!8maDkdVnY|        2008-10-24|    MG|   2023-02-20|  177.2.242.176|Verde Escuro|Adestrador De Ani...|   +55 61 3217-9930|\n",
       "|137.964.520-43| natalia72@ig.com.br|i71MdCj2*^|        1939-06-26|    MG|   2023-02-03|  141.28.225.40|      Branco|      Espeleologista|    (041) 8471 8007|\n",
       "|790.482.315-23|noaharagao@hotmai...|#i_LhbOX52|        1922-03-19|    MG|   2023-01-25|170.188.237.119|       Preto|         Empacotador|+55 (031) 9156-3903|\n",
       "|872.041.936-87| fsilva@yahoo.com.br|B+E9r_CkU^|        1926-05-20|    MG|   2023-01-04|   220.1.100.77|      Marrom|     Mecânico De Vôo|    (031) 9834-4568|\n",
       "|832.714.650-53|    ijesus@gmail.com|JLr@1Mlr!Z|        1983-05-21|    MG|   2023-01-25|  84.142.120.51|        Roxo|            Ministro|       81 9463-7374|\n",
       "|529.610.873-68|barbosajuliana@bo...|$!3Td!uO%^|        2016-09-03|    MG|   2023-02-15|   85.36.21.190|     Amarelo|            Lenhador|    (061) 3713 1708|\n",
       "|198.256.734-19|valentina08@ig.co...|@BJV)ATd!8|        1962-01-11|    MG|   2023-02-23|   4.122.66.211|       Verde|             Atuário|       71 4313-7632|\n",
       "|568.037.192-86|correiabreno@uol....|+7Msf8JW$)|        1979-04-29|    MG|   2023-01-16|  94.151.189.72|        Roxo|      Guia Turistico|       61 5868-4411|\n",
       "|915.074.832-79|    jnunes@ig.com.br|$Z1&Su4H+k|        1917-09-13|    MG|   2023-01-28|  68.252.77.213|        Rosa|            Chaveiro|      0800-497-4568|\n",
       "|512.346.879-09|santosmiguel@bol....|3qYeSpr2$i|        1948-11-14|    MG|   2023-01-02|  23.111.181.66|        Roxo|            Mecânico|    (051) 0292-9648|\n",
       "|012.469.857-30|diasrebeca@uol.co...|E%0%8VUeID|        1936-03-01|    MG|   2023-02-18|172.155.210.224|       Cinza|Engenheiro De Aqu...|    (041) 9158 0476|\n",
       "|032.548.967-00|rochaagatha@uol.c...|azXJMV)0*2|        1995-03-04|    MG|   2023-02-09|     2.55.79.36|     Laranja|Odontologista Pre...|       31 5789 4432|\n",
       "|863.051.924-05|pintoryan@uol.com.br|P5jNqf8U*^|        1932-10-30|    MG|   2023-03-01|    139.5.71.51|      Branco|      Odontopediatra|       31 5503 6600|\n",
       "|706.135.948-00|ana-vitoriafernan...|ye!oooXy$0|        1935-05-09|    MG|   2023-02-11| 103.28.141.203|     Amarelo|Cientista De Alim...|       71 0827-8838|\n",
       "|513.780.269-77|kaiqueda-cunha@bo...|gtn&GsT^^5|        1984-01-17|    MG|   2023-03-08|218.106.248.244|Verde Escuro|Taxidermista/Emba...|+55 (021) 9610-2123|\n",
       "|829.617.354-91|diegojesus@gmail.com|M6yxjF!w^G|        2017-04-10|    MG|   2023-01-09|    6.1.173.123|     Violeta|          Empresário|    (041) 3905-6942|\n",
       "|068.234.915-15|stephany16@yahoo....|R7GnyM+M(w|        1969-09-13|    MG|   2023-01-09| 139.126.79.210| Azul Escuro|Adestrador De Ani...|       31 3341 1801|\n",
       "+--------------+--------------------+----------+------------------+------+-------------+---------------+------------+--------------------+-------------------+\n",
       "only showing top 20 rows"
      ]
     },
     "execution_count": 8,
     "metadata": {},
     "output_type": "execute_result"
    }
   ],
   "source": [
    "#Filtering values\n",
    "df2.filter(df2['estado']=='MG')\n",
    "\n",
    "#Second Option to Filter\n",
    "    #DF3 = df2[df2['estado']=='MG']\n",
    "    #DF3.describe\n",
    "    \n",
    "#Third option to use Filter\n",
    "    #df2.where(df2.cor_favorita.isin('Ciano')).filter(df.estado == 'GO')\n",
    "\n",
    "\n",
    "# Good practicie of multiples filters\n",
    "    # (df2\n",
    "    # .where(df2.estado == 'MG')\n",
    "    # .where(df2.profissao == 'Tenente')\n",
    "    # )\n",
    "\n",
    "\n"
   ]
  },
  {
   "cell_type": "markdown",
   "metadata": {},
   "source": [
    "# WithColumn\n"
   ]
  },
  {
   "cell_type": "code",
   "execution_count": 9,
   "metadata": {},
   "outputs": [],
   "source": [
    "import pyspark.sql.functions as F\n",
    "\n",
    "# df2_transformed = (df2.withColumn('nome_estados',\n",
    "#     F.when(col('estado') == 'AC', 'Acre')\n",
    "#     .when(col('estado') == 'AL', 'Alagoas')\n",
    "#     .when(col('estado') == 'AP', 'Amapá')\n",
    "#     .when(col('estado') == 'AM', 'Amazonas')\n",
    "#     .when(col('estado') == 'BA', 'Bahia')\n",
    "#     .when(col('estado') == 'CE', 'Ceará')\n",
    "#     .when(col('estado') == 'DF', 'Distrito Federal')\n",
    "#     .when(col('estado') == 'ES', 'Espírito Santo')\n",
    "#     .when(col('estado') == 'GO', 'Goiás')\n",
    "#     .when(col('estado') == 'MA', 'Maranhão')\n",
    "#     .when(col('estado') == 'MT', 'Mato Grosso')\n",
    "#     .when(col('estado') == 'MS', 'Mato Grosso do Sul')\n",
    "#     .when(col('estado') == 'MG', 'Minas Gerais')\n",
    "#     .when(col('estado') == 'PA', 'Pará')\n",
    "#     .when(col('estado') == 'PB', 'Paraíba')\n",
    "#     .when(col('estado') == 'PR', 'Paraná')\n",
    "#     .when(col('estado') == 'PE', 'Pernambuco')\n",
    "#     .when(col('estado') == 'PI', 'Piauí')\n",
    "#     .when(col('estado') == 'RJ', 'Rio de Janeiro')\n",
    "#     .when(col('estado') == 'RN', 'Rio Grande do Norte')\n",
    "#     .when(col('estado') == 'RS', 'Rio Grande do Sul')\n",
    "#     .when(col('estado') == 'RO', 'Rondônia')\n",
    "#     .when(col('estado') == 'RR', 'Roraima')\n",
    "#     .when(col('estado') == 'SC', 'Santa Catarina')\n",
    "#     .when(col('estado') == 'SP', 'São Paulo')\n",
    "#     .when(col('estado') == 'SE', 'Sergipe')\n",
    "#     .when(col('estado') == 'TO', 'Tocantins')\n",
    "#     .otherwise('Demais')\n",
    "# )\n",
    "# .withColumn('flagrosa',F.when(F.col('cor_favorita') == 'Rosa',1).otherwise(0))\n",
    "\n",
    "# )\n",
    "\n",
    "# df2_transformed.show()\n"
   ]
  },
  {
   "cell_type": "code",
   "execution_count": 10,
   "metadata": {},
   "outputs": [],
   "source": [
    "dfUsers = df2"
   ]
  },
  {
   "cell_type": "markdown",
   "metadata": {},
   "source": []
  },
  {
   "cell_type": "markdown",
   "metadata": {},
   "source": [
    "# String Manipulation\n"
   ]
  },
  {
   "cell_type": "code",
   "execution_count": 11,
   "metadata": {},
   "outputs": [
    {
     "name": "stdout",
     "output_type": "stream",
     "text": [
      "+------------------+------+--------------------+----------+-------------+\n",
      "|data_de_nascimento|estado|           profissao|  provedor|nome_provedor|\n",
      "+------------------+------+--------------------+----------+-------------+\n",
      "|        1921-11-11|    MG|      Papiloscopista|uol.com.br|          uol|\n",
      "|        2008-11-04|    GO| Promotor De Eventos|uol.com.br|          uol|\n",
      "|        2016-06-09|    MS|         Diagramador|uol.com.br|          uol|\n",
      "|        1934-11-26|    AM|           Triatleta|uol.com.br|          uol|\n",
      "|        1958-04-06|    AC|         Kite-Surfer|uol.com.br|          uol|\n",
      "|        2018-11-25|    MS|          Revendedor|uol.com.br|          uol|\n",
      "|        1991-03-05|    PE|         Retificador|uol.com.br|          uol|\n",
      "|        1982-07-26|    RJ|           Diplomata|uol.com.br|          uol|\n",
      "|        1910-04-02|    CE|            Sargento|uol.com.br|          uol|\n",
      "|        1941-08-25|    PI|     Ginasta Rítmica|uol.com.br|          uol|\n",
      "|        1936-01-31|    RR|  Jogador De Futebol|uol.com.br|          uol|\n",
      "|        2005-12-03|    PR|Piloto Automobilí...|uol.com.br|          uol|\n",
      "|        1995-01-19|    TO|      Gestor Público|uol.com.br|          uol|\n",
      "|        1911-08-03|    ES|        Clarinetista|uol.com.br|          uol|\n",
      "|        1986-01-28|    RO|          Intérprete|uol.com.br|          uol|\n",
      "|        1982-11-30|    SE| Engenheiro Acústico|uol.com.br|          uol|\n",
      "|        1990-03-16|    PE|    Técnico De Gesso|uol.com.br|          uol|\n",
      "|        1991-11-29|    DF|            Marechal|uol.com.br|          uol|\n",
      "|        1948-04-15|    RS|           Navegador|uol.com.br|          uol|\n",
      "|        1964-10-19|    CE|            Dublador|uol.com.br|          uol|\n",
      "+------------------+------+--------------------+----------+-------------+\n",
      "only showing top 20 rows\n",
      "\n"
     ]
    }
   ],
   "source": [
    "(\n",
    "    dfUsers\n",
    "    .withColumn('usuário',F.split('email','@').getItem(0))\n",
    "    .withColumn('provedor',F.split('email','@').getItem(1))\n",
    "    .withColumn('nome_provedor',F.split(F.col('provedor'),'\\.').getItem(0))\n",
    "    .select('data_de_nascimento','estado','profissao', 'provedor','nome_provedor' )\n",
    "    .where(F.col('nome_provedor') == 'uol')\n",
    "    .show()\n",
    "    \n",
    ")"
   ]
  },
  {
   "cell_type": "code",
   "execution_count": 12,
   "metadata": {},
   "outputs": [
    {
     "name": "stdout",
     "output_type": "stream",
     "text": [
      "+--------------+--------------------+----------+------------------+------+-------------+---------------+------------+--------------------+-------------------+--------------------+----------+--------------------+--------------------+---------+--------------------+-----+-----+----------+--------------------+\n",
      "|           cpf|               email|     senha|data_de_nascimento|estado|data_cadastro|           ipv4|cor_favorita|           profissao|           telefone|              concat|   concat2|               lower|             initcap|substring|       format_string|instr|Lenth|    repeat|                lpad|\n",
      "+--------------+--------------------+----------+------------------+------+-------------+---------------+------------+--------------------+-------------------+--------------------+----------+--------------------+--------------------+---------+--------------------+-----+-----+----------+--------------------+\n",
      "|981.507.362-12|pedro-lucas53@gma...|+7^7E%xFBc|        2006-12-18|    RR|   2023-02-26| 99.107.250.210|        Roxo|    Jogador De Golfe|       31 7785-4046|Jogador De GolfeRoxo|RR -Brasil|    jogador de golfe|    Jogador De Golfe|     Roxo|Olá, sua cor favo...|   14|   16|RRRRRRRRRR|    Jogador De Golfe|\n",
      "|493.705.168-75|rezendeisaac@hotm...|_O_2GRnGOe|        1992-06-17|    GO|   2023-02-16|  197.11.26.213|       Ciano|Atleta De Arremes...|    (031) 0803-6753|Atleta De Arremes...|GO -Brasil|atleta de arremes...|Atleta De Arremes...|    Ciano|Olá, sua cor favo...|   13|   27|GOGOGOGOGO|Atleta De Arremes...|\n",
      "|398.471.625-73|felipepires@uol.c...|*Aw5EOAvy9|        1921-11-11|    MG|   2023-01-02|   181.90.63.58|        Azul|      Papiloscopista|       11 9674-0553|  PapiloscopistaAzul|MG -Brasil|      papiloscopista|      Papiloscopista|     Azul|Olá, sua cor favo...|   12|   14|MGMGMGMGMG|      Papiloscopista|\n",
      "|092.618.354-06|stellamoraes@bol....|mw0AWYAs#s|        2021-06-01|    AC|   2023-01-08|  26.121.127.94|      Marrom|            Aeromoça|+55 (071) 3033 9177|      AeromoçaMarrom|AC -Brasil|            aeromoça|            Aeromoça|   Marrom|Olá, sua cor favo...|   13|    8|ACACACACAC|            Aeromoça|\n",
      "|509.427.136-99| wcarvalho@ig.com.br|pGD%!2Pq5X|        1969-10-28|    AP|   2023-02-14|  76.184.52.163|     Laranja|       Fonoaudiólogo|+55 (071) 6272 2468|FonoaudiólogoLaranja|AP -Brasil|       fonoaudiólogo|       Fonoaudiólogo|  Laranja|Olá, sua cor favo...|   10|   13|APAPAPAPAP|       Fonoaudiólogo|\n",
      "|218.795.460-94|da-conceicaodavi-...|uhBbFxPA&9|        1986-05-19|    MG|   2023-03-07|    192.93.0.24|        Rosa|             Taxista|   +55 84 0652 9691|         TaxistaRosa|MG -Brasil|             taxista|             Taxista|     Rosa|Olá, sua cor favo...|   23|    7|MGMGMGMGMG|             Taxista|\n",
      "|715.836.940-48| efreitas@bol.com.br|s#q9VZt&xl|        2018-04-20|    MG|   2023-01-13| 76.251.188.148|      Branco|Produtor De Audio...|+55 (084) 1363 0052|Produtor De Audio...|MG -Brasil|produtor de audio...|Produtor De Audio...|   Branco|Olá, sua cor favo...|    9|   24|MGMGMGMGMG|Produtor De Audio...|\n",
      "|475.698.032-56|   wnunes@bol.com.br|_8az1W%n7g|        1996-05-12|    SE|   2023-02-04|139.196.176.154|        Azul|          Cadeirinha|    (071) 1640-3388|      CadeirinhaAzul|SE -Brasil|          cadeirinha|          Cadeirinha|     Azul|Olá, sua cor favo...|    7|   10|SESESESESE|          Cadeirinha|\n",
      "|217.639.540-99| jribeiro@bol.com.br|MEf1X7fj_0|        2021-10-05|    PA|   2023-03-02|    71.22.224.5|      Marrom|             Geólogo|       21 1432 4092|       GeólogoMarrom|PA -Brasil|             geólogo|             Geólogo|   Marrom|Olá, sua cor favo...|    9|    7|PAPAPAPAPA|             Geólogo|\n",
      "|261.938.750-77|  murilo05@gmail.com|Te&gO7GkKs|        1917-01-05|    MT|   2023-02-21| 136.54.123.165|      Marrom|      Técnico De Som|+55 (084) 5878-3346|Técnico De SomMarrom|MT -Brasil|      técnico de som|      Técnico De Som|   Marrom|Olá, sua cor favo...|    9|   14|MTMTMTMTMT|      Técnico De Som|\n",
      "+--------------+--------------------+----------+------------------+------+-------------+---------------+------------+--------------------+-------------------+--------------------+----------+--------------------+--------------------+---------+--------------------+-----+-----+----------+--------------------+\n",
      "only showing top 10 rows\n",
      "\n"
     ]
    }
   ],
   "source": [
    "\n",
    "(\n",
    "df2\n",
    ".withColumn('concat',F.concat(df2.profissao,df2.cor_favorita))\n",
    ".withColumn('concat2',F.concat(df2.estado,F.lit(' -Brasil')))\n",
    ".withColumn('lower',F.lower(df2.profissao))\n",
    ".withColumn('initcap',F.initcap(df2.profissao))\n",
    ".withColumn('substring',F.substring(df2.cor_favorita,1,100))\n",
    ".withColumn('format_string',F.format_string('Olá, sua cor favorita é  %s',df2.cor_favorita)) \n",
    ".withColumn('instr',F.instr(df2.email,'@'))\n",
    ".withColumn('Lenth',F.length(df2.profissao))\n",
    ".withColumn('repeat',F.repeat(df2.estado,5))\n",
    ".withColumn('lpad',F.trim(df2.profissao))\n",
    "# .select('lpad',F.lpad(df2.cor_favorita,10,'>'))\n",
    ".show(10)\n",
    ")"
   ]
  },
  {
   "cell_type": "markdown",
   "metadata": {},
   "source": [
    "# Funções Numéricas\n"
   ]
  },
  {
   "cell_type": "code",
   "execution_count": 107,
   "metadata": {},
   "outputs": [],
   "source": [
    "dfIMC = spark.read.parquet('./databases/IMC.parquet''')"
   ]
  },
  {
   "cell_type": "code",
   "execution_count": 14,
   "metadata": {},
   "outputs": [
    {
     "data": {
      "text/html": [
       "<table border='1'>\n",
       "<tr><th>nome</th><th>altura</th><th>peso</th><th>round</th><th>ceil</th><th>floor</th><th>altura_negativa</th><th>pow</th></tr>\n",
       "<tr><td>Pietra Fernandes</td><td>176</td><td>97.88</td><td>97.9</td><td>98</td><td>97</td><td>-176</td><td>9580.4944</td></tr>\n",
       "<tr><td>Ana Júlia da Rosa</td><td>163</td><td>80.56</td><td>80.6</td><td>81</td><td>80</td><td>-163</td><td>6489.913600000001</td></tr>\n",
       "<tr><td>Fernando Martins</td><td>150</td><td>85.55</td><td>85.6</td><td>86</td><td>85</td><td>-150</td><td>7318.8025</td></tr>\n",
       "<tr><td>Isis Silveira</td><td>173</td><td>70.1</td><td>70.1</td><td>71</td><td>70</td><td>-173</td><td>4914.009999999999</td></tr>\n",
       "<tr><td>Cecília Porto</td><td>190</td><td>93.42</td><td>93.4</td><td>94</td><td>93</td><td>-190</td><td>8727.296400000001</td></tr>\n",
       "<tr><td>Sra. Bruna Almeida</td><td>198</td><td>73.07</td><td>73.1</td><td>74</td><td>73</td><td>-198</td><td>5339.224899999999</td></tr>\n",
       "<tr><td>Maria Julia Silva</td><td>170</td><td>71.36</td><td>71.4</td><td>72</td><td>71</td><td>-170</td><td>5092.2496</td></tr>\n",
       "<tr><td>Pedro Henrique da...</td><td>188</td><td>105.57</td><td>105.6</td><td>106</td><td>105</td><td>-188</td><td>11145.024899999999</td></tr>\n",
       "<tr><td>Davi Lucas Campos</td><td>180</td><td>98.49</td><td>98.5</td><td>99</td><td>98</td><td>-180</td><td>9700.280099999998</td></tr>\n",
       "<tr><td>Juan Gonçalves</td><td>175</td><td>71.87</td><td>71.9</td><td>72</td><td>71</td><td>-175</td><td>5165.2969</td></tr>\n",
       "</table>\n"
      ],
      "text/plain": [
       "+--------------------+------+------+-----+----+-----+---------------+------------------+\n",
       "|                nome|altura|  peso|round|ceil|floor|altura_negativa|               pow|\n",
       "+--------------------+------+------+-----+----+-----+---------------+------------------+\n",
       "|    Pietra Fernandes|   176| 97.88| 97.9|  98|   97|           -176|         9580.4944|\n",
       "|   Ana Júlia da Rosa|   163| 80.56| 80.6|  81|   80|           -163| 6489.913600000001|\n",
       "|    Fernando Martins|   150| 85.55| 85.6|  86|   85|           -150|         7318.8025|\n",
       "|       Isis Silveira|   173|  70.1| 70.1|  71|   70|           -173| 4914.009999999999|\n",
       "|       Cecília Porto|   190| 93.42| 93.4|  94|   93|           -190| 8727.296400000001|\n",
       "|  Sra. Bruna Almeida|   198| 73.07| 73.1|  74|   73|           -198| 5339.224899999999|\n",
       "|   Maria Julia Silva|   170| 71.36| 71.4|  72|   71|           -170|         5092.2496|\n",
       "|Pedro Henrique da...|   188|105.57|105.6| 106|  105|           -188|11145.024899999999|\n",
       "|   Davi Lucas Campos|   180| 98.49| 98.5|  99|   98|           -180| 9700.280099999998|\n",
       "|      Juan Gonçalves|   175| 71.87| 71.9|  72|   71|           -175|         5165.2969|\n",
       "+--------------------+------+------+-----+----+-----+---------------+------------------+"
      ]
     },
     "execution_count": 14,
     "metadata": {},
     "output_type": "execute_result"
    }
   ],
   "source": [
    "(\n",
    "\n",
    "    dfIMC\n",
    "    .withColumn('round',F.round(dfIMC.peso,1))\n",
    "    .withColumn('ceil',F.ceil(dfIMC.peso))\n",
    "    .withColumn('floor',F.floor(dfIMC.peso))\n",
    "    .withColumn('altura_negativa',-F.col('altura'))\n",
    "    .withColumn('pow',F.pow(dfIMC.peso,2))\n",
    ")"
   ]
  },
  {
   "cell_type": "markdown",
   "metadata": {},
   "source": [
    "# Date Operations"
   ]
  },
  {
   "cell_type": "markdown",
   "metadata": {},
   "source": []
  },
  {
   "cell_type": "code",
   "execution_count": 108,
   "metadata": {},
   "outputs": [],
   "source": [
    "dfDate = spark.read.parquet('./databases/LOGINS.parquet')"
   ]
  },
  {
   "cell_type": "code",
   "execution_count": 16,
   "metadata": {},
   "outputs": [
    {
     "name": "stdout",
     "output_type": "stream",
     "text": [
      "+------------------+-------------+\n",
      "|data_de_nascimento|data_cadastro|\n",
      "+------------------+-------------+\n",
      "|        2006-12-18|   2023-02-26|\n",
      "|        1992-06-17|   2023-02-16|\n",
      "|        1921-11-11|   2023-01-02|\n",
      "|        2021-06-01|   2023-01-08|\n",
      "|        1969-10-28|   2023-02-14|\n",
      "|        1986-05-19|   2023-03-07|\n",
      "|        2018-04-20|   2023-01-13|\n",
      "|        1996-05-12|   2023-02-04|\n",
      "|        2021-10-05|   2023-03-02|\n",
      "|        1917-01-05|   2023-02-21|\n",
      "+------------------+-------------+\n",
      "only showing top 10 rows\n",
      "\n"
     ]
    }
   ],
   "source": [
    "dfDate = dfDate.select('data_de_nascimento','data_cadastro')\n",
    "dfDate.show(10)"
   ]
  },
  {
   "cell_type": "code",
   "execution_count": 17,
   "metadata": {},
   "outputs": [
    {
     "name": "stdout",
     "output_type": "stream",
     "text": [
      "+------------------+-------------+----------+-------------+------------+--------------------+----------+-----------+----------+-----------+---------+----------+---------+----------+----+-----+----------+--------------+----------+----------+----------+\n",
      "|data_de_nascimento|data_cadastro|add_months|remove_months|Current_date|   Current_timestamp|  date_add|remove_date|  date_sub|date_format|date_diff|DayOfMonth|DayOfWeek|WeekOfYear|year|month|  last_day|months_between|  next_day| make_date|   to_date|\n",
      "+------------------+-------------+----------+-------------+------------+--------------------+----------+-----------+----------+-----------+---------+----------+---------+----------+----+-----+----------+--------------+----------+----------+----------+\n",
      "|        2006-12-18|   2023-02-26|2023-03-26|   2023-01-26|  2024-01-10|2024-01-10 09:07:...|2023-03-08| 2023-02-16|2023-02-16| 18/12/2006|     6232|        18|        2|        51|2006|   12|2006-12-31|  204.74193548|2023-02-27|2020-04-02|2020-09-01|\n",
      "|        1992-06-17|   2023-02-16|2023-03-16|   2023-01-16|  2024-01-10|2024-01-10 09:07:...|2023-02-26| 2023-02-06|2023-02-06|  17/6/1992|    11529|        17|        4|        25|1992|    6|1992-06-30|  378.77419355|2023-02-20|2020-04-02|2020-09-01|\n",
      "+------------------+-------------+----------+-------------+------------+--------------------+----------+-----------+----------+-----------+---------+----------+---------+----------+----+-----+----------+--------------+----------+----------+----------+\n",
      "only showing top 2 rows\n",
      "\n"
     ]
    }
   ],
   "source": [
    "(\n",
    "    dfDate\n",
    "    .withColumn('add_months', F.add_months(dfDate.data_cadastro,1))\n",
    "    .withColumn('remove_months', F.add_months(dfDate.data_cadastro,-1))\n",
    "    .withColumn('Current_date', F.current_date())\n",
    "    .withColumn('Current_timestamp', F.current_timestamp())\n",
    "    .withColumn('date_add',F.date_add(dfDate.data_cadastro,10))\n",
    "    .withColumn('remove_date',F.date_add(dfDate.data_cadastro,-10))\n",
    "    .withColumn('date_sub',F.date_sub(dfDate.data_cadastro,10))\n",
    "    .withColumn('date_format',F.date_format(dfDate.data_de_nascimento,'d/M/y'))\n",
    "    .withColumn('date_diff',F.datediff(F.current_date(),dfDate.data_de_nascimento))\n",
    "    .withColumn('DayOfMonth',F.dayofmonth(dfDate.data_de_nascimento))\n",
    "    .withColumn('DayOfWeek',F.dayofweek(dfDate.data_de_nascimento))\n",
    "    .withColumn('WeekOfYear',F.weekofyear(dfDate.data_de_nascimento))\n",
    "    .withColumn('year',F.year(dfDate.data_de_nascimento))\n",
    "    .withColumn('month',F.month(dfDate.data_de_nascimento))\n",
    "    .withColumn('last_day',F.last_day(dfDate.data_de_nascimento))\n",
    "    .withColumn('months_between',F.months_between(F.current_date(),dfDate.data_de_nascimento))\n",
    "    .withColumn('next_day',F.next_day(dfDate.data_cadastro,'Mon'))\n",
    "    .withColumn('make_date',F.make_date(F.lit(2020),F.lit(4),F.lit(2)))\n",
    "    .withColumn('to_date',F.to_date(F.lit('2020-09-01')))\n",
    "    .show(2)\n",
    ")"
   ]
  },
  {
   "cell_type": "markdown",
   "metadata": {},
   "source": [
    "# Data Manipulation"
   ]
  },
  {
   "cell_type": "code",
   "execution_count": 109,
   "metadata": {},
   "outputs": [],
   "source": [
    "dfDM = spark.read.parquet('./databases/LOGINS.parquet')"
   ]
  },
  {
   "cell_type": "markdown",
   "metadata": {},
   "source": [
    "## Order By"
   ]
  },
  {
   "cell_type": "code",
   "execution_count": 19,
   "metadata": {},
   "outputs": [
    {
     "name": "stdout",
     "output_type": "stream",
     "text": [
      "+--------------+-------------------+----------+------------------+------+-------------+-------------+------------+------------+-------------------+\n",
      "|           cpf|              email|     senha|data_de_nascimento|estado|data_cadastro|         ipv4|cor_favorita|   profissao|           telefone|\n",
      "+--------------+-------------------+----------+------------------+------+-------------+-------------+------------+------------+-------------------+\n",
      "|837.021.546-71|zpinto@yahoo.com.br|(5R*_#XVDl|        1955-06-08|    RR|   2023-02-06|52.26.104.153|        Rosa|Argumentista|    (081) 8099 9690|\n",
      "|037.862.951-40|   zlopes@gmail.com|_LYcJLlu&8|        1966-10-15|    RR|   2023-03-14| 64.236.21.52|      Branco|     Ourives|   +55 61 4893 1165|\n",
      "|482.063.597-29|  zgomes@uol.com.br|zIEEb2Oma^|        1990-04-25|    PI|   2023-03-05|152.70.106.84|Verde Escuro|   Baterista|+55 (061) 9491 2341|\n",
      "+--------------+-------------------+----------+------------------+------+-------------+-------------+------------+------------+-------------------+\n",
      "only showing top 3 rows\n",
      "\n"
     ]
    }
   ],
   "source": [
    "(\n",
    "\n",
    "dfDM\n",
    ".orderBy(F.desc('email'))\n",
    "#.orderBy('estado','data_cadastro')\n",
    ".show(3)\n",
    "\n",
    ")"
   ]
  },
  {
   "cell_type": "markdown",
   "metadata": {},
   "source": [
    "## Group By"
   ]
  },
  {
   "cell_type": "code",
   "execution_count": 20,
   "metadata": {},
   "outputs": [
    {
     "data": {
      "text/html": [
       "<table border='1'>\n",
       "<tr><th>cor_favorita</th><th>Quantidade</th></tr>\n",
       "<tr><td>Preto</td><td>57</td></tr>\n",
       "<tr><td>Violeta</td><td>47</td></tr>\n",
       "<tr><td>Rosa</td><td>81</td></tr>\n",
       "<tr><td>Marrom</td><td>62</td></tr>\n",
       "<tr><td>Ciano</td><td>59</td></tr>\n",
       "<tr><td>Laranja</td><td>53</td></tr>\n",
       "<tr><td>Azul</td><td>76</td></tr>\n",
       "<tr><td>Verde Claro</td><td>66</td></tr>\n",
       "<tr><td>Roxo</td><td>64</td></tr>\n",
       "<tr><td>Branco</td><td>66</td></tr>\n",
       "<tr><td>Verde Escuro</td><td>65</td></tr>\n",
       "<tr><td>Azul Escuro</td><td>62</td></tr>\n",
       "<tr><td>Verde</td><td>53</td></tr>\n",
       "<tr><td>Magenta</td><td>54</td></tr>\n",
       "<tr><td>Cinza</td><td>75</td></tr>\n",
       "<tr><td>Amarelo</td><td>60</td></tr>\n",
       "</table>\n"
      ],
      "text/plain": [
       "+------------+----------+\n",
       "|cor_favorita|Quantidade|\n",
       "+------------+----------+\n",
       "|       Preto|        57|\n",
       "|     Violeta|        47|\n",
       "|        Rosa|        81|\n",
       "|      Marrom|        62|\n",
       "|       Ciano|        59|\n",
       "|     Laranja|        53|\n",
       "|        Azul|        76|\n",
       "| Verde Claro|        66|\n",
       "|        Roxo|        64|\n",
       "|      Branco|        66|\n",
       "|Verde Escuro|        65|\n",
       "| Azul Escuro|        62|\n",
       "|       Verde|        53|\n",
       "|     Magenta|        54|\n",
       "|       Cinza|        75|\n",
       "|     Amarelo|        60|\n",
       "+------------+----------+"
      ]
     },
     "execution_count": 20,
     "metadata": {},
     "output_type": "execute_result"
    }
   ],
   "source": [
    "(\n",
    "dfDM\n",
    ".groupBy('cor_favorita')\n",
    ".agg(F.count('cor_favorita').alias('Quantidade'))\n",
    "\n",
    "\n",
    " )"
   ]
  },
  {
   "cell_type": "markdown",
   "metadata": {},
   "source": [
    "## Agregate"
   ]
  },
  {
   "cell_type": "code",
   "execution_count": 21,
   "metadata": {},
   "outputs": [
    {
     "name": "stdout",
     "output_type": "stream",
     "text": [
      "+--------------+--------------------+----------+------------------+------+-------------+--------------+------------+--------------------+---------------+---+\n",
      "|           cpf|               email|     senha|data_de_nascimento|estado|data_cadastro|          ipv4|cor_favorita|           profissao|       telefone|num|\n",
      "+--------------+--------------------+----------+------------------+------+-------------+--------------+------------+--------------------+---------------+---+\n",
      "|981.507.362-12|pedro-lucas53@gma...|+7^7E%xFBc|        2006-12-18|    RR|   2023-02-26|99.107.250.210|        Roxo|    Jogador De Golfe|   31 7785-4046| 18|\n",
      "|493.705.168-75|rezendeisaac@hotm...|_O_2GRnGOe|        1992-06-17|    GO|   2023-02-16| 197.11.26.213|       Ciano|Atleta De Arremes...|(031) 0803-6753| 17|\n",
      "+--------------+--------------------+----------+------------------+------+-------------+--------------+------------+--------------------+---------------+---+\n",
      "only showing top 2 rows\n",
      "\n"
     ]
    }
   ],
   "source": [
    "dfNum = df.withColumn('num',F.dayofmonth(df.data_de_nascimento))\n",
    "dfNum.show(2)"
   ]
  },
  {
   "cell_type": "code",
   "execution_count": 22,
   "metadata": {},
   "outputs": [
    {
     "data": {
      "text/html": [
       "<table border='1'>\n",
       "<tr><th>cor_favorita</th><th>count(1)</th><th>sum(num)</th><th>avg(num)</th></tr>\n",
       "<tr><td>Preto</td><td>57</td><td>893</td><td>15.666666666666666</td></tr>\n",
       "<tr><td>Violeta</td><td>47</td><td>773</td><td>16.4468085106383</td></tr>\n",
       "<tr><td>Rosa</td><td>81</td><td>1146</td><td>14.148148148148149</td></tr>\n",
       "<tr><td>Marrom</td><td>62</td><td>916</td><td>14.774193548387096</td></tr>\n",
       "<tr><td>Ciano</td><td>59</td><td>1085</td><td>18.389830508474578</td></tr>\n",
       "<tr><td>Laranja</td><td>53</td><td>956</td><td>18.037735849056602</td></tr>\n",
       "<tr><td>Azul</td><td>76</td><td>1295</td><td>17.039473684210527</td></tr>\n",
       "<tr><td>Verde Claro</td><td>66</td><td>1179</td><td>17.863636363636363</td></tr>\n",
       "<tr><td>Roxo</td><td>64</td><td>1025</td><td>16.015625</td></tr>\n",
       "<tr><td>Branco</td><td>66</td><td>1085</td><td>16.439393939393938</td></tr>\n",
       "<tr><td>Verde Escuro</td><td>65</td><td>1103</td><td>16.96923076923077</td></tr>\n",
       "<tr><td>Azul Escuro</td><td>62</td><td>1042</td><td>16.806451612903224</td></tr>\n",
       "<tr><td>Verde</td><td>53</td><td>858</td><td>16.18867924528302</td></tr>\n",
       "<tr><td>Magenta</td><td>54</td><td>935</td><td>17.314814814814813</td></tr>\n",
       "<tr><td>Cinza</td><td>75</td><td>1208</td><td>16.106666666666666</td></tr>\n",
       "<tr><td>Amarelo</td><td>60</td><td>828</td><td>13.8</td></tr>\n",
       "</table>\n"
      ],
      "text/plain": [
       "+------------+--------+--------+------------------+\n",
       "|cor_favorita|count(1)|sum(num)|          avg(num)|\n",
       "+------------+--------+--------+------------------+\n",
       "|       Preto|      57|     893|15.666666666666666|\n",
       "|     Violeta|      47|     773|  16.4468085106383|\n",
       "|        Rosa|      81|    1146|14.148148148148149|\n",
       "|      Marrom|      62|     916|14.774193548387096|\n",
       "|       Ciano|      59|    1085|18.389830508474578|\n",
       "|     Laranja|      53|     956|18.037735849056602|\n",
       "|        Azul|      76|    1295|17.039473684210527|\n",
       "| Verde Claro|      66|    1179|17.863636363636363|\n",
       "|        Roxo|      64|    1025|         16.015625|\n",
       "|      Branco|      66|    1085|16.439393939393938|\n",
       "|Verde Escuro|      65|    1103| 16.96923076923077|\n",
       "| Azul Escuro|      62|    1042|16.806451612903224|\n",
       "|       Verde|      53|     858| 16.18867924528302|\n",
       "|     Magenta|      54|     935|17.314814814814813|\n",
       "|       Cinza|      75|    1208|16.106666666666666|\n",
       "|     Amarelo|      60|     828|              13.8|\n",
       "+------------+--------+--------+------------------+"
      ]
     },
     "execution_count": 22,
     "metadata": {},
     "output_type": "execute_result"
    }
   ],
   "source": [
    "(\n",
    "    dfNum.groupBy('cor_favorita')\n",
    "    .agg(F.count('*'),F.sum('num'), F.avg('num'))\n",
    ")"
   ]
  },
  {
   "cell_type": "markdown",
   "metadata": {},
   "source": [
    "# Joins"
   ]
  },
  {
   "cell_type": "code",
   "execution_count": 23,
   "metadata": {},
   "outputs": [
    {
     "data": {
      "image/png": "[encoded data removed]",
      "text/plain": [
       "<IPython.core.display.Image object>"
      ]
     },
     "execution_count": 23,
     "metadata": {},
     "output_type": "execute_result"
    }
   ],
   "source": [
    "from IPython.display import Image\n",
    "Image('https://i.stack.imgur.com/vb1V6.png')"
   ]
  },
  {
   "cell_type": "code",
   "execution_count": 24,
   "metadata": {},
   "outputs": [],
   "source": [
    "autores = spark.read.parquet('./databases/AUTORES.parquet')\n",
    "livros = spark.read.parquet('./databases/LIVROS.parquet')\n",
    "clientes = spark.read.parquet('./databases/CLIENTES.parquet')\n",
    "compras = spark.read.parquet('./databases/COMPRAS.parquet')\n"
   ]
  },
  {
   "cell_type": "markdown",
   "metadata": {},
   "source": [
    "### Left Outer"
   ]
  },
  {
   "cell_type": "code",
   "execution_count": 25,
   "metadata": {},
   "outputs": [
    {
     "data": {
      "text/html": [
       "<table border='1'>\n",
       "<tr><th>id</th><th>titulo</th><th>autor</th><th>cnpj_editora</th><th>data_lancamento</th><th>ean</th><th>isbn10</th><th>numero_paginas</th><th>preco</th></tr>\n",
       "<tr><td>106042959</td><td>1984 </td><td>George Orwell</td><td>null</td><td>null</td><td>null</td><td>null</td><td>null</td><td>null</td></tr>\n",
       "<tr><td>017551704</td><td>200 Crônicas Esco...</td><td>Rubem Braga</td><td>14.857.032/0001-12</td><td>2018-10-19</td><td>2352660010751</td><td>0-7433-6026-5</td><td>645</td><td>44.38</td></tr>\n",
       "<tr><td>054099410</td><td>A Alma Encantador...</td><td>João do Rio</td><td>null</td><td>null</td><td>null</td><td>null</td><td>null</td><td>null</td></tr>\n",
       "<tr><td>128422117</td><td>A Biblioteca da M...</td><td>Matt Haig</td><td>null</td><td>null</td><td>null</td><td>null</td><td>null</td><td>null</td></tr>\n",
       "<tr><td>049141399</td><td>A Coleira do Cão </td><td>Rubem Fonseca</td><td>null</td><td>null</td><td>null</td><td>null</td><td>null</td><td>null</td></tr>\n",
       "<tr><td>065490862</td><td>A Cor Púrpura </td><td>Alice Walker</td><td>null</td><td>null</td><td>null</td><td>null</td><td>null</td><td>null</td></tr>\n",
       "<tr><td>029077001</td><td>A Educação Sentim...</td><td>Gustave Flaubert</td><td>null</td><td>null</td><td>null</td><td>null</td><td>null</td><td>null</td></tr>\n",
       "<tr><td>032275599</td><td>A Escrava Isaura </td><td>Bernardo Guimarães</td><td>49.037.512/0001-11</td><td>2001-05-15</td><td>2964406383663</td><td>1-83335-705-1</td><td>752</td><td>184.42</td></tr>\n",
       "<tr><td>090690941</td><td>A Estrela Sobe </td><td>Marques Rebelo</td><td>null</td><td>null</td><td>null</td><td>null</td><td>null</td><td>null</td></tr>\n",
       "<tr><td>095695255</td><td>A Hora da Estrela </td><td>Clarice Lispector</td><td>94.567.038/0001-94</td><td>2015-04-23</td><td>4084520465552</td><td>0-7650-7381-1</td><td>572</td><td>83.33</td></tr>\n",
       "<tr><td>036365230</td><td>A Hora dos Rumina...</td><td>José J. Veiga</td><td>null</td><td>null</td><td>null</td><td>null</td><td>null</td><td>null</td></tr>\n",
       "<tr><td>069146824</td><td>A Letra Escarlate </td><td>Nathaniel Hawthorne</td><td>null</td><td>null</td><td>null</td><td>null</td><td>null</td><td>null</td></tr>\n",
       "<tr><td>025903823</td><td>A Metamorfose </td><td>Franz Kafka</td><td>64.315.082/0001-46</td><td>2006-01-05</td><td>7561853479861</td><td>0-10-032263-8</td><td>760</td><td>215.52</td></tr>\n",
       "<tr><td>015903574</td><td>A Montanha Mágica </td><td>Thomas Mann</td><td>25.908.643/0001-69</td><td>2006-03-03</td><td>7694802204365</td><td>0-931131-95-2</td><td>600</td><td>90.22</td></tr>\n",
       "<tr><td>076938216</td><td>A Moreninha </td><td>Joaquim Manuel de...</td><td>null</td><td>null</td><td>null</td><td>null</td><td>null</td><td>null</td></tr>\n",
       "<tr><td>010325500</td><td>A Obscena Senhora D </td><td>Hilda Hilst</td><td>27.689.540/0001-80</td><td>2000-09-09</td><td>8793472196570</td><td>0-933627-98-X</td><td>306</td><td>30.62</td></tr>\n",
       "<tr><td>095678890</td><td>A Paixão Segundo ...</td><td>Clarice Lispector</td><td>null</td><td>null</td><td>null</td><td>null</td><td>null</td><td>null</td></tr>\n",
       "<tr><td>073269564</td><td>A Revolução dos B...</td><td>George Orwell</td><td>null</td><td>null</td><td>null</td><td>null</td><td>null</td><td>null</td></tr>\n",
       "<tr><td>076121829</td><td>A Rosa do Povo </td><td>Carlos Drummond d...</td><td>null</td><td>null</td><td>null</td><td>null</td><td>null</td><td>null</td></tr>\n",
       "<tr><td>087365849</td><td>A Senhorita Simpson </td><td>Sérgio Sant’anna</td><td>null</td><td>null</td><td>null</td><td>null</td><td>null</td><td>null</td></tr>\n",
       "</table>\n",
       "only showing top 20 rows\n"
      ],
      "text/plain": [
       "+---------+--------------------+--------------------+------------------+---------------+-------------+-------------+--------------+------+\n",
       "|       id|              titulo|               autor|      cnpj_editora|data_lancamento|          ean|       isbn10|numero_paginas| preco|\n",
       "+---------+--------------------+--------------------+------------------+---------------+-------------+-------------+--------------+------+\n",
       "|106042959|               1984 |       George Orwell|              null|           null|         null|         null|          null|  null|\n",
       "|017551704|200 Crônicas Esco...|         Rubem Braga|14.857.032/0001-12|     2018-10-19|2352660010751|0-7433-6026-5|           645| 44.38|\n",
       "|054099410|A Alma Encantador...|         João do Rio|              null|           null|         null|         null|          null|  null|\n",
       "|128422117|A Biblioteca da M...|           Matt Haig|              null|           null|         null|         null|          null|  null|\n",
       "|049141399|   A Coleira do Cão |       Rubem Fonseca|              null|           null|         null|         null|          null|  null|\n",
       "|065490862|      A Cor Púrpura |        Alice Walker|              null|           null|         null|         null|          null|  null|\n",
       "|029077001|A Educação Sentim...|    Gustave Flaubert|              null|           null|         null|         null|          null|  null|\n",
       "|032275599|   A Escrava Isaura |  Bernardo Guimarães|49.037.512/0001-11|     2001-05-15|2964406383663|1-83335-705-1|           752|184.42|\n",
       "|090690941|     A Estrela Sobe |      Marques Rebelo|              null|           null|         null|         null|          null|  null|\n",
       "|095695255|  A Hora da Estrela |   Clarice Lispector|94.567.038/0001-94|     2015-04-23|4084520465552|0-7650-7381-1|           572| 83.33|\n",
       "|036365230|A Hora dos Rumina...|       José J. Veiga|              null|           null|         null|         null|          null|  null|\n",
       "|069146824|  A Letra Escarlate | Nathaniel Hawthorne|              null|           null|         null|         null|          null|  null|\n",
       "|025903823|      A Metamorfose |         Franz Kafka|64.315.082/0001-46|     2006-01-05|7561853479861|0-10-032263-8|           760|215.52|\n",
       "|015903574|  A Montanha Mágica |         Thomas Mann|25.908.643/0001-69|     2006-03-03|7694802204365|0-931131-95-2|           600| 90.22|\n",
       "|076938216|        A Moreninha |Joaquim Manuel de...|              null|           null|         null|         null|          null|  null|\n",
       "|010325500|A Obscena Senhora D |         Hilda Hilst|27.689.540/0001-80|     2000-09-09|8793472196570|0-933627-98-X|           306| 30.62|\n",
       "|095678890|A Paixão Segundo ...|   Clarice Lispector|              null|           null|         null|         null|          null|  null|\n",
       "|073269564|A Revolução dos B...|       George Orwell|              null|           null|         null|         null|          null|  null|\n",
       "|076121829|     A Rosa do Povo |Carlos Drummond d...|              null|           null|         null|         null|          null|  null|\n",
       "|087365849|A Senhorita Simpson |    Sérgio Sant’anna|              null|           null|         null|         null|          null|  null|\n",
       "+---------+--------------------+--------------------+------------------+---------------+-------------+-------------+--------------+------+\n",
       "only showing top 20 rows"
      ]
     },
     "execution_count": 25,
     "metadata": {},
     "output_type": "execute_result"
    }
   ],
   "source": [
    "autores.join(other = livros, on = 'id', how = 'left')"
   ]
  },
  {
   "cell_type": "markdown",
   "metadata": {},
   "source": [
    "### Right Outer"
   ]
  },
  {
   "cell_type": "code",
   "execution_count": 26,
   "metadata": {},
   "outputs": [
    {
     "data": {
      "text/html": [
       "<table border='1'>\n",
       "<tr><th>id</th><th>titulo</th><th>autor</th><th>cnpj_editora</th><th>data_lancamento</th><th>ean</th><th>isbn10</th><th>numero_paginas</th><th>preco</th></tr>\n",
       "<tr><td>102961160</td><td>null</td><td>null</td><td>54.317.982/0001-79</td><td>2011-09-19</td><td>4367115749184</td><td>0-06-594558-1</td><td>516</td><td>113.84</td></tr>\n",
       "<tr><td>043636240</td><td>null</td><td>null</td><td>16.938.042/0001-08</td><td>2019-05-11</td><td>1239569754256</td><td>0-611-23680-X</td><td>371</td><td>207.67</td></tr>\n",
       "<tr><td>052928059</td><td>null</td><td>null</td><td>57.624.038/0001-52</td><td>2003-08-03</td><td>5462162528221</td><td>1-109-29542-1</td><td>198</td><td>107.89</td></tr>\n",
       "<tr><td>088482271</td><td>null</td><td>null</td><td>16.249.378/0001-63</td><td>2022-09-07</td><td>5713629047213</td><td>1-229-68842-0</td><td>632</td><td>143.95</td></tr>\n",
       "<tr><td>028125446</td><td>null</td><td>null</td><td>90.425.178/0001-77</td><td>2011-07-25</td><td>2226757040245</td><td>0-657-66391-3</td><td>384</td><td>156.49</td></tr>\n",
       "<tr><td>055610005</td><td>null</td><td>null</td><td>20.756.194/0001-67</td><td>2006-03-22</td><td>2114468195241</td><td>0-455-43278-3</td><td>419</td><td>37.08</td></tr>\n",
       "<tr><td>049806867</td><td>null</td><td>null</td><td>93.617.240/0001-10</td><td>2022-02-17</td><td>3166123637398</td><td>1-4822-8784-6</td><td>378</td><td>162.97</td></tr>\n",
       "<tr><td>102803370</td><td>null</td><td>null</td><td>48.760.531/0001-09</td><td>2011-12-13</td><td>2550608407612</td><td>0-399-05121-X</td><td>732</td><td>75.62</td></tr>\n",
       "<tr><td>084858867</td><td>null</td><td>null</td><td>10.752.843/0001-06</td><td>2015-04-30</td><td>6207011925788</td><td>1-03-549652-6</td><td>635</td><td>237.67</td></tr>\n",
       "<tr><td>059303729</td><td>null</td><td>null</td><td>05.129.783/0001-21</td><td>2001-08-25</td><td>1641133648784</td><td>0-620-46508-5</td><td>107</td><td>61.41</td></tr>\n",
       "<tr><td>064175052</td><td>null</td><td>null</td><td>65.301.927/0001-07</td><td>2008-05-29</td><td>6905480714673</td><td>1-876722-64-9</td><td>795</td><td>85.56</td></tr>\n",
       "<tr><td>080608956</td><td>Viva o Povo Brasi...</td><td>João Ubaldo Ribeiro</td><td>90.563.247/0001-09</td><td>2011-10-05</td><td>0332981484891</td><td>1-925760-25-1</td><td>203</td><td>107.63</td></tr>\n",
       "<tr><td>018453254</td><td>Grande Sertão: Ve...</td><td>Guimarães Rosa</td><td>95.367.280/0001-87</td><td>2012-11-02</td><td>0507454098268</td><td>0-609-21722-4</td><td>043</td><td>52.94</td></tr>\n",
       "<tr><td>021765997</td><td>As Aventuras de H...</td><td>Mark Twain</td><td>59.374.801/0001-60</td><td>2014-05-17</td><td>4743679337089</td><td>1-85580-232-5</td><td>499</td><td>143.43</td></tr>\n",
       "<tr><td>023911383</td><td>Catatau </td><td>Paulo Leminski</td><td>98.526.047/0001-98</td><td>2005-11-12</td><td>4165252098109</td><td>1-369-22273-4</td><td>599</td><td>121.0</td></tr>\n",
       "<tr><td>029667220</td><td>null</td><td>null</td><td>20.136.498/0001-21</td><td>2008-09-22</td><td>9813450961422</td><td>0-466-92503-4</td><td>474</td><td>175.32</td></tr>\n",
       "<tr><td>030099528</td><td>Retrato do Artist...</td><td>James Joyce</td><td>28.103.975/0001-64</td><td>2000-02-06</td><td>9164658045347</td><td>0-904222-71-3</td><td>292</td><td>208.39</td></tr>\n",
       "<tr><td>034553086</td><td>null</td><td>null</td><td>29.507.683/0001-50</td><td>2016-12-29</td><td>7318970609554</td><td>1-4989-7802-9</td><td>540</td><td>113.52</td></tr>\n",
       "<tr><td>035350343</td><td>null</td><td>null</td><td>25.491.073/0001-54</td><td>2003-11-29</td><td>7630092024962</td><td>1-957157-95-X</td><td>109</td><td>58.61</td></tr>\n",
       "<tr><td>017477529</td><td>null</td><td>null</td><td>39.507.184/0001-16</td><td>2005-09-23</td><td>5930606400018</td><td>1-393-77728-7</td><td>747</td><td>232.65</td></tr>\n",
       "</table>\n",
       "only showing top 20 rows\n"
      ],
      "text/plain": [
       "+---------+--------------------+-------------------+------------------+---------------+-------------+-------------+--------------+------+\n",
       "|       id|              titulo|              autor|      cnpj_editora|data_lancamento|          ean|       isbn10|numero_paginas| preco|\n",
       "+---------+--------------------+-------------------+------------------+---------------+-------------+-------------+--------------+------+\n",
       "|102961160|                null|               null|54.317.982/0001-79|     2011-09-19|4367115749184|0-06-594558-1|           516|113.84|\n",
       "|043636240|                null|               null|16.938.042/0001-08|     2019-05-11|1239569754256|0-611-23680-X|           371|207.67|\n",
       "|052928059|                null|               null|57.624.038/0001-52|     2003-08-03|5462162528221|1-109-29542-1|           198|107.89|\n",
       "|088482271|                null|               null|16.249.378/0001-63|     2022-09-07|5713629047213|1-229-68842-0|           632|143.95|\n",
       "|028125446|                null|               null|90.425.178/0001-77|     2011-07-25|2226757040245|0-657-66391-3|           384|156.49|\n",
       "|055610005|                null|               null|20.756.194/0001-67|     2006-03-22|2114468195241|0-455-43278-3|           419| 37.08|\n",
       "|049806867|                null|               null|93.617.240/0001-10|     2022-02-17|3166123637398|1-4822-8784-6|           378|162.97|\n",
       "|102803370|                null|               null|48.760.531/0001-09|     2011-12-13|2550608407612|0-399-05121-X|           732| 75.62|\n",
       "|084858867|                null|               null|10.752.843/0001-06|     2015-04-30|6207011925788|1-03-549652-6|           635|237.67|\n",
       "|059303729|                null|               null|05.129.783/0001-21|     2001-08-25|1641133648784|0-620-46508-5|           107| 61.41|\n",
       "|064175052|                null|               null|65.301.927/0001-07|     2008-05-29|6905480714673|1-876722-64-9|           795| 85.56|\n",
       "|080608956|Viva o Povo Brasi...|João Ubaldo Ribeiro|90.563.247/0001-09|     2011-10-05|0332981484891|1-925760-25-1|           203|107.63|\n",
       "|018453254|Grande Sertão: Ve...|     Guimarães Rosa|95.367.280/0001-87|     2012-11-02|0507454098268|0-609-21722-4|           043| 52.94|\n",
       "|021765997|As Aventuras de H...|         Mark Twain|59.374.801/0001-60|     2014-05-17|4743679337089|1-85580-232-5|           499|143.43|\n",
       "|023911383|            Catatau |     Paulo Leminski|98.526.047/0001-98|     2005-11-12|4165252098109|1-369-22273-4|           599| 121.0|\n",
       "|029667220|                null|               null|20.136.498/0001-21|     2008-09-22|9813450961422|0-466-92503-4|           474|175.32|\n",
       "|030099528|Retrato do Artist...|        James Joyce|28.103.975/0001-64|     2000-02-06|9164658045347|0-904222-71-3|           292|208.39|\n",
       "|034553086|                null|               null|29.507.683/0001-50|     2016-12-29|7318970609554|1-4989-7802-9|           540|113.52|\n",
       "|035350343|                null|               null|25.491.073/0001-54|     2003-11-29|7630092024962|1-957157-95-X|           109| 58.61|\n",
       "|017477529|                null|               null|39.507.184/0001-16|     2005-09-23|5930606400018|1-393-77728-7|           747|232.65|\n",
       "+---------+--------------------+-------------------+------------------+---------------+-------------+-------------+--------------+------+\n",
       "only showing top 20 rows"
      ]
     },
     "execution_count": 26,
     "metadata": {},
     "output_type": "execute_result"
    }
   ],
   "source": [
    "autores.join(other = livros, on = 'id', how = 'right')"
   ]
  },
  {
   "cell_type": "markdown",
   "metadata": {},
   "source": [
    "### Full Outer"
   ]
  },
  {
   "cell_type": "code",
   "execution_count": 27,
   "metadata": {},
   "outputs": [
    {
     "data": {
      "text/html": [
       "<table border='1'>\n",
       "<tr><th>id</th><th>titulo</th><th>autor</th><th>cnpj_editora</th><th>data_lancamento</th><th>ean</th><th>isbn10</th><th>numero_paginas</th><th>preco</th></tr>\n",
       "<tr><td>010033025</td><td>null</td><td>null</td><td>06.849.371/0001-29</td><td>2005-07-05</td><td>3363492241854</td><td>1-196-97629-5</td><td>095</td><td>80.63</td></tr>\n",
       "<tr><td>010045097</td><td>Moby Dick </td><td>Herman Melville</td><td>93.167.508/0001-60</td><td>2003-12-17</td><td>5404258649298</td><td>1-198-80360-6</td><td>209</td><td>138.69</td></tr>\n",
       "<tr><td>010249547</td><td>null</td><td>null</td><td>10.345.968/0001-03</td><td>2017-12-04</td><td>7005400578046</td><td>0-7705-1411-1</td><td>246</td><td>81.2</td></tr>\n",
       "<tr><td>010325500</td><td>A Obscena Senhora D </td><td>Hilda Hilst</td><td>27.689.540/0001-80</td><td>2000-09-09</td><td>8793472196570</td><td>0-933627-98-X</td><td>306</td><td>30.62</td></tr>\n",
       "<tr><td>010366161</td><td>Lucíola </td><td>José de Alencar</td><td>70.293.541/0001-30</td><td>2022-02-18</td><td>9429320742345</td><td>0-356-75493-6</td><td>968</td><td>200.6</td></tr>\n",
       "<tr><td>010409138</td><td>Romanceiro da Inc...</td><td>Cecília Meireles</td><td>null</td><td>null</td><td>null</td><td>null</td><td>null</td><td>null</td></tr>\n",
       "<tr><td>010745876</td><td>Gargântua e Panta...</td><td>François Rabelais</td><td>01.427.369/0001-48</td><td>2017-06-12</td><td>0666233842154</td><td>0-14-758390-X</td><td>910</td><td>237.77</td></tr>\n",
       "<tr><td>010838220</td><td>Ficções </td><td>Jorge Luis Borges</td><td>34.927.681/0001-50</td><td>2009-06-15</td><td>7773545068127</td><td>0-536-43094-2</td><td>368</td><td>129.9</td></tr>\n",
       "<tr><td>011195894</td><td>Journey to the En...</td><td>Louis-Ferdinand C...</td><td>null</td><td>null</td><td>null</td><td>null</td><td>null</td><td>null</td></tr>\n",
       "<tr><td>011247991</td><td>Lavoura Arcaica </td><td>Raduan Nassar</td><td>97.352.048/0001-09</td><td>2009-05-03</td><td>1126815895613</td><td>0-625-59780-X</td><td>616</td><td>106.29</td></tr>\n",
       "<tr><td>011267609</td><td>Ópera dos Mortos </td><td>Autran Dourado</td><td>65.470.981/0001-86</td><td>2007-07-27</td><td>6524135816526</td><td>1-80516-004-4</td><td>297</td><td>62.96</td></tr>\n",
       "<tr><td>011553384</td><td>null</td><td>null</td><td>40.853.726/0001-91</td><td>2015-03-28</td><td>9156435776292</td><td>0-9948946-4-3</td><td>269</td><td>20.79</td></tr>\n",
       "<tr><td>011576248</td><td>O Conto da Aia </td><td>Margaret Atwood</td><td>34.697.852/0001-00</td><td>2017-06-19</td><td>0932670524947</td><td>0-8158-8294-7</td><td>946</td><td>50.56</td></tr>\n",
       "<tr><td>011653983</td><td>O Tronco </td><td>Bernardo Élis</td><td>20.349.157/0001-34</td><td>2009-03-06</td><td>9259604942426</td><td>1-949368-17-3</td><td>026</td><td>50.57</td></tr>\n",
       "<tr><td>011997254</td><td>Canaã </td><td>Graça Aranha</td><td>null</td><td>null</td><td>null</td><td>null</td><td>null</td><td>null</td></tr>\n",
       "<tr><td>012034239</td><td>Espumas Flutuantes </td><td>Castro Alves</td><td>72.514.380/0001-93</td><td>2015-06-10</td><td>0382801014395</td><td>1-317-72702-9</td><td>290</td><td>129.74</td></tr>\n",
       "<tr><td>012242979</td><td>Faithful and Virt...</td><td>Louise Glück</td><td>27.358.691/0001-56</td><td>2010-08-09</td><td>0284854891179</td><td>1-329-90922-4</td><td>101</td><td>109.68</td></tr>\n",
       "<tr><td>012331534</td><td>null</td><td>null</td><td>84.317.925/0001-50</td><td>2010-05-29</td><td>3177832263150</td><td>1-62649-755-9</td><td>129</td><td>175.67</td></tr>\n",
       "<tr><td>012401215</td><td>Rebecca </td><td>Daphne du Maurier</td><td>15.209.874/0001-20</td><td>2018-02-20</td><td>9130572281611</td><td>1-159-82903-9</td><td>773</td><td>51.84</td></tr>\n",
       "<tr><td>012413805</td><td>null</td><td>null</td><td>16.948.253/0001-21</td><td>2016-10-13</td><td>7081447826562</td><td>0-266-19518-0</td><td>090</td><td>78.97</td></tr>\n",
       "</table>\n",
       "only showing top 20 rows\n"
      ],
      "text/plain": [
       "+---------+--------------------+--------------------+------------------+---------------+-------------+-------------+--------------+------+\n",
       "|       id|              titulo|               autor|      cnpj_editora|data_lancamento|          ean|       isbn10|numero_paginas| preco|\n",
       "+---------+--------------------+--------------------+------------------+---------------+-------------+-------------+--------------+------+\n",
       "|010033025|                null|                null|06.849.371/0001-29|     2005-07-05|3363492241854|1-196-97629-5|           095| 80.63|\n",
       "|010045097|          Moby Dick |     Herman Melville|93.167.508/0001-60|     2003-12-17|5404258649298|1-198-80360-6|           209|138.69|\n",
       "|010249547|                null|                null|10.345.968/0001-03|     2017-12-04|7005400578046|0-7705-1411-1|           246|  81.2|\n",
       "|010325500|A Obscena Senhora D |         Hilda Hilst|27.689.540/0001-80|     2000-09-09|8793472196570|0-933627-98-X|           306| 30.62|\n",
       "|010366161|            Lucíola |     José de Alencar|70.293.541/0001-30|     2022-02-18|9429320742345|0-356-75493-6|           968| 200.6|\n",
       "|010409138|Romanceiro da Inc...|    Cecília Meireles|              null|           null|         null|         null|          null|  null|\n",
       "|010745876|Gargântua e Panta...|   François Rabelais|01.427.369/0001-48|     2017-06-12|0666233842154|0-14-758390-X|           910|237.77|\n",
       "|010838220|            Ficções |   Jorge Luis Borges|34.927.681/0001-50|     2009-06-15|7773545068127|0-536-43094-2|           368| 129.9|\n",
       "|011195894|Journey to the En...|Louis-Ferdinand C...|              null|           null|         null|         null|          null|  null|\n",
       "|011247991|    Lavoura Arcaica |       Raduan Nassar|97.352.048/0001-09|     2009-05-03|1126815895613|0-625-59780-X|           616|106.29|\n",
       "|011267609|   Ópera dos Mortos |      Autran Dourado|65.470.981/0001-86|     2007-07-27|6524135816526|1-80516-004-4|           297| 62.96|\n",
       "|011553384|                null|                null|40.853.726/0001-91|     2015-03-28|9156435776292|0-9948946-4-3|           269| 20.79|\n",
       "|011576248|     O Conto da Aia |     Margaret Atwood|34.697.852/0001-00|     2017-06-19|0932670524947|0-8158-8294-7|           946| 50.56|\n",
       "|011653983|           O Tronco |       Bernardo Élis|20.349.157/0001-34|     2009-03-06|9259604942426|1-949368-17-3|           026| 50.57|\n",
       "|011997254|              Canaã |        Graça Aranha|              null|           null|         null|         null|          null|  null|\n",
       "|012034239| Espumas Flutuantes |        Castro Alves|72.514.380/0001-93|     2015-06-10|0382801014395|1-317-72702-9|           290|129.74|\n",
       "|012242979|Faithful and Virt...|        Louise Glück|27.358.691/0001-56|     2010-08-09|0284854891179|1-329-90922-4|           101|109.68|\n",
       "|012331534|                null|                null|84.317.925/0001-50|     2010-05-29|3177832263150|1-62649-755-9|           129|175.67|\n",
       "|012401215|            Rebecca |   Daphne du Maurier|15.209.874/0001-20|     2018-02-20|9130572281611|1-159-82903-9|           773| 51.84|\n",
       "|012413805|                null|                null|16.948.253/0001-21|     2016-10-13|7081447826562|0-266-19518-0|           090| 78.97|\n",
       "+---------+--------------------+--------------------+------------------+---------------+-------------+-------------+--------------+------+\n",
       "only showing top 20 rows"
      ]
     },
     "execution_count": 27,
     "metadata": {},
     "output_type": "execute_result"
    }
   ],
   "source": [
    "autores.join(other = livros, on = 'id', how = 'full')"
   ]
  },
  {
   "cell_type": "markdown",
   "metadata": {},
   "source": [
    "### Inner Join"
   ]
  },
  {
   "cell_type": "code",
   "execution_count": 28,
   "metadata": {},
   "outputs": [
    {
     "data": {
      "text/html": [
       "<table border='1'>\n",
       "<tr><th>id</th><th>titulo</th><th>autor</th><th>cnpj_editora</th><th>data_lancamento</th><th>ean</th><th>isbn10</th><th>numero_paginas</th><th>preco</th></tr>\n",
       "<tr><td>080608956</td><td>Viva o Povo Brasi...</td><td>João Ubaldo Ribeiro</td><td>90.563.247/0001-09</td><td>2011-10-05</td><td>0332981484891</td><td>1-925760-25-1</td><td>203</td><td>107.63</td></tr>\n",
       "<tr><td>018453254</td><td>Grande Sertão: Ve...</td><td>Guimarães Rosa</td><td>95.367.280/0001-87</td><td>2012-11-02</td><td>0507454098268</td><td>0-609-21722-4</td><td>043</td><td>52.94</td></tr>\n",
       "<tr><td>021765997</td><td>As Aventuras de H...</td><td>Mark Twain</td><td>59.374.801/0001-60</td><td>2014-05-17</td><td>4743679337089</td><td>1-85580-232-5</td><td>499</td><td>143.43</td></tr>\n",
       "<tr><td>023911383</td><td>Catatau </td><td>Paulo Leminski</td><td>98.526.047/0001-98</td><td>2005-11-12</td><td>4165252098109</td><td>1-369-22273-4</td><td>599</td><td>121.0</td></tr>\n",
       "<tr><td>030099528</td><td>Retrato do Artist...</td><td>James Joyce</td><td>28.103.975/0001-64</td><td>2000-02-06</td><td>9164658045347</td><td>0-904222-71-3</td><td>292</td><td>208.39</td></tr>\n",
       "<tr><td>030334762</td><td>Em Busca do Tempo...</td><td>Marcel Proust</td><td>80.463.719/0001-06</td><td>2013-05-08</td><td>7122725133429</td><td>0-85193-340-8</td><td>099</td><td>123.47</td></tr>\n",
       "<tr><td>035940339</td><td>Adeus às Armas </td><td>Ernest Hemingway</td><td>71.530.496/0001-53</td><td>2014-08-11</td><td>6764222732753</td><td>1-396-90787-4</td><td>327</td><td>213.6</td></tr>\n",
       "<tr><td>026925428</td><td>Sing, Unburied, S...</td><td>Jesmyn Ward</td><td>97.156.423/0001-37</td><td>2011-09-04</td><td>7828100308177</td><td>0-491-15648-0</td><td>793</td><td>193.19</td></tr>\n",
       "<tr><td>010045097</td><td>Moby Dick </td><td>Herman Melville</td><td>93.167.508/0001-60</td><td>2003-12-17</td><td>5404258649298</td><td>1-198-80360-6</td><td>209</td><td>138.69</td></tr>\n",
       "<tr><td>010366161</td><td>Lucíola </td><td>José de Alencar</td><td>70.293.541/0001-30</td><td>2022-02-18</td><td>9429320742345</td><td>0-356-75493-6</td><td>968</td><td>200.6</td></tr>\n",
       "<tr><td>022395641</td><td>O Sol Também se L...</td><td>Ernest Hemingway</td><td>64.395.017/0001-78</td><td>2000-03-08</td><td>8190873212302</td><td>1-79261-939-1</td><td>244</td><td>112.33</td></tr>\n",
       "<tr><td>024027632</td><td>O Mestre e Margar...</td><td>Mikhail Bulgákov</td><td>52.097.134/0001-76</td><td>2002-07-25</td><td>0908234894085</td><td>0-214-19455-8</td><td>965</td><td>248.4</td></tr>\n",
       "<tr><td>025331136</td><td>E O Vento Levou </td><td>Margaret Mitchell</td><td>13.649.820/0001-50</td><td>2001-04-17</td><td>6928869770794</td><td>0-337-49672-2</td><td>919</td><td>133.42</td></tr>\n",
       "<tr><td>028590563</td><td>Brás, Bexiga e Ba...</td><td>Antônio de Alcânt...</td><td>83.652.071/0001-04</td><td>2017-10-01</td><td>4098655700235</td><td>0-09-656628-0</td><td>580</td><td>18.31</td></tr>\n",
       "<tr><td>015903574</td><td>A Montanha Mágica </td><td>Thomas Mann</td><td>25.908.643/0001-69</td><td>2006-03-03</td><td>7694802204365</td><td>0-931131-95-2</td><td>600</td><td>90.22</td></tr>\n",
       "<tr><td>034173770</td><td>Viva Vaia </td><td>Augusto de Campos</td><td>42.036.185/0001-34</td><td>2022-11-21</td><td>6414689158305</td><td>0-06-622504-3</td><td>433</td><td>83.01</td></tr>\n",
       "<tr><td>016430211</td><td>O Homem e Sua Hora </td><td>Mário Faustino</td><td>49.168.732/0001-84</td><td>2016-03-22</td><td>3851979617518</td><td>0-400-61604-1</td><td>059</td><td>113.07</td></tr>\n",
       "<tr><td>022112497</td><td>Mrs Dalloway </td><td>Virginia Woolf</td><td>82.074.936/0001-21</td><td>2021-01-06</td><td>5078165920063</td><td>0-7763-1592-7</td><td>799</td><td>10.84</td></tr>\n",
       "<tr><td>030144651</td><td>Zero </td><td>Ignácio De Loyola...</td><td>24.631.097/0001-07</td><td>2011-04-14</td><td>5139658472558</td><td>0-8390-6301-6</td><td>146</td><td>242.2</td></tr>\n",
       "<tr><td>012489208</td><td>Triste Fim de Pol...</td><td>Lima Barreto</td><td>76.035.284/0001-13</td><td>2011-10-30</td><td>5442868630558</td><td>1-927216-40-0</td><td>113</td><td>160.53</td></tr>\n",
       "</table>\n",
       "only showing top 20 rows\n"
      ],
      "text/plain": [
       "+---------+--------------------+--------------------+------------------+---------------+-------------+-------------+--------------+------+\n",
       "|       id|              titulo|               autor|      cnpj_editora|data_lancamento|          ean|       isbn10|numero_paginas| preco|\n",
       "+---------+--------------------+--------------------+------------------+---------------+-------------+-------------+--------------+------+\n",
       "|080608956|Viva o Povo Brasi...| João Ubaldo Ribeiro|90.563.247/0001-09|     2011-10-05|0332981484891|1-925760-25-1|           203|107.63|\n",
       "|018453254|Grande Sertão: Ve...|      Guimarães Rosa|95.367.280/0001-87|     2012-11-02|0507454098268|0-609-21722-4|           043| 52.94|\n",
       "|021765997|As Aventuras de H...|          Mark Twain|59.374.801/0001-60|     2014-05-17|4743679337089|1-85580-232-5|           499|143.43|\n",
       "|023911383|            Catatau |      Paulo Leminski|98.526.047/0001-98|     2005-11-12|4165252098109|1-369-22273-4|           599| 121.0|\n",
       "|030099528|Retrato do Artist...|         James Joyce|28.103.975/0001-64|     2000-02-06|9164658045347|0-904222-71-3|           292|208.39|\n",
       "|030334762|Em Busca do Tempo...|       Marcel Proust|80.463.719/0001-06|     2013-05-08|7122725133429|0-85193-340-8|           099|123.47|\n",
       "|035940339|     Adeus às Armas |    Ernest Hemingway|71.530.496/0001-53|     2014-08-11|6764222732753|1-396-90787-4|           327| 213.6|\n",
       "|026925428|Sing, Unburied, S...|         Jesmyn Ward|97.156.423/0001-37|     2011-09-04|7828100308177|0-491-15648-0|           793|193.19|\n",
       "|010045097|          Moby Dick |     Herman Melville|93.167.508/0001-60|     2003-12-17|5404258649298|1-198-80360-6|           209|138.69|\n",
       "|010366161|            Lucíola |     José de Alencar|70.293.541/0001-30|     2022-02-18|9429320742345|0-356-75493-6|           968| 200.6|\n",
       "|022395641|O Sol Também se L...|    Ernest Hemingway|64.395.017/0001-78|     2000-03-08|8190873212302|1-79261-939-1|           244|112.33|\n",
       "|024027632|O Mestre e Margar...|    Mikhail Bulgákov|52.097.134/0001-76|     2002-07-25|0908234894085|0-214-19455-8|           965| 248.4|\n",
       "|025331136|    E O Vento Levou |   Margaret Mitchell|13.649.820/0001-50|     2001-04-17|6928869770794|0-337-49672-2|           919|133.42|\n",
       "|028590563|Brás, Bexiga e Ba...|Antônio de Alcânt...|83.652.071/0001-04|     2017-10-01|4098655700235|0-09-656628-0|           580| 18.31|\n",
       "|015903574|  A Montanha Mágica |         Thomas Mann|25.908.643/0001-69|     2006-03-03|7694802204365|0-931131-95-2|           600| 90.22|\n",
       "|034173770|          Viva Vaia |   Augusto de Campos|42.036.185/0001-34|     2022-11-21|6414689158305|0-06-622504-3|           433| 83.01|\n",
       "|016430211| O Homem e Sua Hora |      Mário Faustino|49.168.732/0001-84|     2016-03-22|3851979617518|0-400-61604-1|           059|113.07|\n",
       "|022112497|       Mrs Dalloway |      Virginia Woolf|82.074.936/0001-21|     2021-01-06|5078165920063|0-7763-1592-7|           799| 10.84|\n",
       "|030144651|               Zero |Ignácio De Loyola...|24.631.097/0001-07|     2011-04-14|5139658472558|0-8390-6301-6|           146| 242.2|\n",
       "|012489208|Triste Fim de Pol...|        Lima Barreto|76.035.284/0001-13|     2011-10-30|5442868630558|1-927216-40-0|           113|160.53|\n",
       "+---------+--------------------+--------------------+------------------+---------------+-------------+-------------+--------------+------+\n",
       "only showing top 20 rows"
      ]
     },
     "execution_count": 28,
     "metadata": {},
     "output_type": "execute_result"
    }
   ],
   "source": [
    "autores.join(other = livros, on = 'id', how = 'inner')"
   ]
  },
  {
   "cell_type": "code",
   "execution_count": 29,
   "metadata": {},
   "outputs": [
    {
     "name": "stdout",
     "output_type": "stream",
     "text": [
      "+------+---------------------+----------------+----------------+----------+-------------------------+----------+--------+---------------+--------------------+-----------+---------+----------+---------+------------------+---------------+-------------+-------------+--------------+------+\n",
      "|    id|cartao_data_expiracao|   cartao_numero| cartao_bandeira|cartao_cvc|codigo_transacao_bancaria|      data|    hora|           ipv4|                ipv6|cep_entrega| cd_livro|cd_cliente|       id|      cnpj_editora|data_lancamento|          ean|       isbn10|numero_paginas| preco|\n",
      "+------+---------------------+----------------+----------------+----------+-------------------------+----------+--------+---------------+--------------------+-----------+---------+----------+---------+------------------+---------------+-------------+-------------+--------------+------+\n",
      "|012389|                11/25|5500804500517692|        Discover|       959|     GB98MPIH622108593...|2021-07-24|03:21:28|  62.145.31.164|b23d:58a2:9eff:36...|  36629-219|030334762|   3339828|030334762|80.463.719/0001-06|     2013-05-08|7122725133429|0-85193-340-8|           099|123.47|\n",
      "|012476|                01/31|   4609489235873|   VISA 16 digit|      6979|     GB79GAVL233010819...|2021-08-23|11:15:52| 185.150.224.52|1e2c:f641:49d1:5a...|  17012-747|013721981|   7624624|013721981|76.351.940/0001-97|     2004-01-27|8786391051693|1-60705-523-6|           379|133.43|\n",
      "|012478|                07/23|  30072722359174|American Express|       689|     GB51SZOU538484531...|2020-01-27|17:08:10|  40.179.153.24|9bcd:ee0c:af68:33...|   25921298|019458805|   8703114|019458805|81.253.490/0001-30|     2007-12-13|2628486550239|0-916523-25-X|           788|238.54|\n",
      "|012534|                09/29|   4561935154572|   VISA 16 digit|       353|     GB05UNEX021466511...|2021-07-15|07:39:25|   86.20.51.194|be57:8f94:132:1cb...|   73799370|014347542|   7799936|014347542|76.415.890/0001-64|     2007-04-05|3883750237349|0-8360-5203-X|           452|182.43|\n",
      "|012549|                01/31|3541220668415122|    JCB 15 digit|       967|     GB97RCCC581942620...|2020-07-22|23:56:14|  55.189.220.65|a1fd:9dd:115f:9d5...|  50727-454|020215846|   6703678|020215846|27.659.813/0001-44|     2014-03-25|7684001180416|0-216-16469-9|           794|155.18|\n",
      "|012574|                06/24|4155061214506542|    JCB 16 digit|       362|     GB93YATI197164292...|2020-05-19|10:47:09|  212.26.253.42|1815:dc0e:c557:96...|  67662-182|010325500|   6273720|010325500|27.689.540/0001-80|     2000-09-09|8793472196570|0-933627-98-X|           306| 30.62|\n",
      "|012579|                01/27|  30554213514227|         Maestro|      9847|     GB54PQLN799705859...|2021-04-15|10:36:56|168.197.230.167|7f3b:4ada:4c62:3f...|  61193-110|053479015|   6977964|053479015|54.327.896/0001-47|     2018-12-21|1750535865566|0-518-04786-5|           105|207.52|\n",
      "|012648|                05/24| 347386847428278|   VISA 16 digit|       823|     GB90MYZL510193283...|2021-06-19|13:07:48| 146.108.131.11|c52d:53d8:371a:34...|  10059-723|012331534|   6616715|012331534|84.317.925/0001-50|     2010-05-29|3177832263150|1-62649-755-9|           129|175.67|\n",
      "|012675|                04/29|   4534805013764|      Mastercard|       384|     GB11XMUH824876351...|2021-07-11|07:55:08| 148.155.72.234|b290:d2b7:6a58:86...|   79292884|035940339|    649001|035940339|71.530.496/0001-53|     2014-08-11|6764222732753|1-396-90787-4|           327| 213.6|\n",
      "|012698|                12/31|4450657280386776|American Express|       247|     GB79ECRO017868447...|2021-08-11|12:06:48|  190.135.5.172|7cbc:4554:7f5d:65...|   93609312|058320651|   4523531|058320651|82.439.107/0001-03|     2013-01-30|6024459409867|1-61357-201-8|           290|196.35|\n",
      "+------+---------------------+----------------+----------------+----------+-------------------------+----------+--------+---------------+--------------------+-----------+---------+----------+---------+------------------+---------------+-------------+-------------+--------------+------+\n",
      "only showing top 10 rows\n",
      "\n"
     ]
    }
   ],
   "source": [
    "compras.join(other = livros,on = compras.cd_livro == livros.id, how='inner').show(10)"
   ]
  },
  {
   "cell_type": "code",
   "execution_count": 30,
   "metadata": {},
   "outputs": [
    {
     "name": "stdout",
     "output_type": "stream",
     "text": [
      "+------+---------------------+----------------+--------------------+----------+-------------------------+----------+--------+---------------+--------------------+-----------+---------+----------+---------+------------------+---------------+-------------+-------------+--------------+-----+\n",
      "|    id|cartao_data_expiracao|   cartao_numero|     cartao_bandeira|cartao_cvc|codigo_transacao_bancaria|      data|    hora|           ipv4|                ipv6|cep_entrega| cd_livro|cd_cliente|       id|      cnpj_editora|data_lancamento|          ean|       isbn10|numero_paginas|preco|\n",
      "+------+---------------------+----------------+--------------------+----------+-------------------------+----------+--------+---------------+--------------------+-----------+---------+----------+---------+------------------+---------------+-------------+-------------+--------------+-----+\n",
      "|013478|                07/24|3560452545224585|       VISA 16 digit|       126|     GB63LUHF437452702...|2020-05-10|02:33:28|105.127.245.188|dd79:3fca:9d38:98...|  10354-560|019488257|    670483|019488257|56.783.210/0001-58|     2013-05-19|3993489629534|0-589-10612-0|           734|17.11|\n",
      "|013872|                07/23|4952338434848309|Diners Club / Car...|       819|     GB41XVXY400107428...|2021-08-22|17:37:59| 147.118.38.208|d48b:ab5d:327b:6d...|   50797397|019488257|   6697506|019488257|56.783.210/0001-58|     2013-05-19|3993489629534|0-589-10612-0|           734|17.11|\n",
      "|013982|                09/29|   4038585675040|            Discover|      7216|     GB84RVQY136325329...|2022-11-27|19:02:58|    7.143.13.17|24d0:2dc0:d949:50...|  86760-124|089889624|   1137203|089889624|16.294.870/0001-50|     2001-06-29|4718107862235|1-346-02899-0|           830|10.86|\n",
      "|013986|                09/30|    639035218598|            Discover|       523|     GB61CWZY130021839...|2021-03-08|01:53:20|  122.69.181.27|723d:2fea:8d8f:ec...|   57200958|097717319|   3619947|097717319|29.635.084/0001-11|     2018-01-27|6029658867845|0-417-50357-1|           919|10.87|\n",
      "+------+---------------------+----------------+--------------------+----------+-------------------------+----------+--------+---------------+--------------------+-----------+---------+----------+---------+------------------+---------------+-------------+-------------+--------------+-----+\n",
      "only showing top 4 rows\n",
      "\n"
     ]
    }
   ],
   "source": [
    "#Using multiple conditions\n",
    "cond = [compras.cd_livro == livros.id,livros.preco <20]\n",
    "compras.join(livros,cond,'inner').show(4)"
   ]
  },
  {
   "cell_type": "markdown",
   "metadata": {},
   "source": [
    "### Cross"
   ]
  },
  {
   "cell_type": "code",
   "execution_count": 50,
   "metadata": {},
   "outputs": [
    {
     "name": "stdout",
     "output_type": "stream",
     "text": [
      "+------+---------------------+----------------+--------------------+----------+-------------------------+----------+--------+--------------+--------------------+-----------+---------+----------+---------+------------------+---------------+-------------+-------------+--------------+------+\n",
      "|    id|cartao_data_expiracao|   cartao_numero|     cartao_bandeira|cartao_cvc|codigo_transacao_bancaria|      data|    hora|          ipv4|                ipv6|cep_entrega| cd_livro|cd_cliente|       id|      cnpj_editora|data_lancamento|          ean|       isbn10|numero_paginas| preco|\n",
      "+------+---------------------+----------------+--------------------+----------+-------------------------+----------+--------+--------------+--------------------+-----------+---------+----------+---------+------------------+---------------+-------------+-------------+--------------+------+\n",
      "|256948|                08/26|  30527022186510|    American Express|       000|     GB44XNMM489278674...|2021-08-23|17:32:38|165.162.171.90|9b9a:12e1:6049:64...|  15211-532|020600053|   2245148|020600053|48.235.609/0001-76|     2009-04-16|1659684622498|0-566-37606-7|           553|147.71|\n",
      "|372954|                04/31|3571126194571481|Diners Club / Car...|       000|     GB19FPAT788326312...|2022-07-10|17:16:49|  183.70.38.94|cfb8:45c3:cf6:d61...|   61775443|017063409|   7705175|017063409|64.391.085/0001-69|     2015-06-29|5995848378648|1-4217-1548-1|           972|212.35|\n",
      "|347602|                01/31|    564408941826|Diners Club / Car...|       000|     GB67EEYE517094240...|2020-07-04|15:31:28| 148.40.19.221|92c7:8a21:4fe3:dc...|   34944056|028362788|   1160152|028362788|65.147.039/0001-81|     2022-03-02|4134991058347|1-344-21102-X|           335|192.43|\n",
      "+------+---------------------+----------------+--------------------+----------+-------------------------+----------+--------+--------------+--------------------+-----------+---------+----------+---------+------------------+---------------+-------------+-------------+--------------+------+\n",
      "only showing top 3 rows\n",
      "\n"
     ]
    }
   ],
   "source": [
    "(\n",
    "compras.join(other = livros,on = compras.cd_livro == livros.id, how='cross')\n",
    ".orderBy('cartao_cvc')\n",
    ".show(3)\n",
    "\n",
    ")"
   ]
  },
  {
   "cell_type": "markdown",
   "metadata": {},
   "source": [
    "### Anti"
   ]
  },
  {
   "cell_type": "code",
   "execution_count": 51,
   "metadata": {},
   "outputs": [
    {
     "name": "stdout",
     "output_type": "stream",
     "text": [
      "+---+---------------------+-------------+---------------+----------+-------------------------+----+----+----+----+-----------+--------+----------+\n",
      "| id|cartao_data_expiracao|cartao_numero|cartao_bandeira|cartao_cvc|codigo_transacao_bancaria|data|hora|ipv4|ipv6|cep_entrega|cd_livro|cd_cliente|\n",
      "+---+---------------------+-------------+---------------+----------+-------------------------+----+----+----+----+-----------+--------+----------+\n",
      "+---+---------------------+-------------+---------------+----------+-------------------------+----+----+----+----+-----------+--------+----------+\n",
      "\n"
     ]
    }
   ],
   "source": [
    "(\n",
    "compras.join(other = livros,on = compras.cd_livro == livros.id, how='anti')\n",
    ".orderBy('cartao_cvc')\n",
    ".show(3)\n",
    "\n",
    ")"
   ]
  },
  {
   "cell_type": "markdown",
   "metadata": {},
   "source": [
    "### Semi"
   ]
  },
  {
   "cell_type": "code",
   "execution_count": 52,
   "metadata": {},
   "outputs": [
    {
     "name": "stdout",
     "output_type": "stream",
     "text": [
      "+------+---------------------+----------------+--------------------+----------+-------------------------+----------+--------+--------------+--------------------+-----------+---------+----------+\n",
      "|    id|cartao_data_expiracao|   cartao_numero|     cartao_bandeira|cartao_cvc|codigo_transacao_bancaria|      data|    hora|          ipv4|                ipv6|cep_entrega| cd_livro|cd_cliente|\n",
      "+------+---------------------+----------------+--------------------+----------+-------------------------+----------+--------+--------------+--------------------+-----------+---------+----------+\n",
      "|256948|                08/26|  30527022186510|    American Express|       000|     GB44XNMM489278674...|2021-08-23|17:32:38|165.162.171.90|9b9a:12e1:6049:64...|  15211-532|020600053|   2245148|\n",
      "|372954|                04/31|3571126194571481|Diners Club / Car...|       000|     GB19FPAT788326312...|2022-07-10|17:16:49|  183.70.38.94|cfb8:45c3:cf6:d61...|   61775443|017063409|   7705175|\n",
      "|347602|                01/31|    564408941826|Diners Club / Car...|       000|     GB67EEYE517094240...|2020-07-04|15:31:28| 148.40.19.221|92c7:8a21:4fe3:dc...|   34944056|028362788|   1160152|\n",
      "+------+---------------------+----------------+--------------------+----------+-------------------------+----------+--------+--------------+--------------------+-----------+---------+----------+\n",
      "only showing top 3 rows\n",
      "\n"
     ]
    }
   ],
   "source": [
    "(\n",
    "compras.join(other = livros,on = compras.cd_livro == livros.id, how='semi')\n",
    ".orderBy('cartao_cvc')\n",
    ".show(3)\n",
    "\n",
    ")"
   ]
  },
  {
   "cell_type": "markdown",
   "metadata": {},
   "source": [
    "# Alias"
   ]
  },
  {
   "cell_type": "code",
   "execution_count": 55,
   "metadata": {},
   "outputs": [
    {
     "name": "stdout",
     "output_type": "stream",
     "text": [
      "+------+----------+\n",
      "|estado|Quantidade|\n",
      "+------+----------+\n",
      "|    SC|        44|\n",
      "|    RO|        39|\n",
      "|    PI|        35|\n",
      "|    AM|        34|\n",
      "|    RR|        33|\n",
      "|    GO|        45|\n",
      "|    TO|        34|\n",
      "|    MT|        29|\n",
      "|    SP|        49|\n",
      "|    ES|        38|\n",
      "+------+----------+\n",
      "only showing top 10 rows\n",
      "\n"
     ]
    }
   ],
   "source": [
    "(\n",
    "df.groupBy('estado')\n",
    ".agg(F.count('*').alias('Quantidade'))\n",
    ".show(10)\n",
    ")"
   ]
  },
  {
   "cell_type": "markdown",
   "metadata": {},
   "source": [
    "# Union"
   ]
  },
  {
   "cell_type": "code",
   "execution_count": 69,
   "metadata": {},
   "outputs": [
    {
     "name": "stdout",
     "output_type": "stream",
     "text": [
      "+---------+------------------+---------------+-------------+-------------+--------------+------+\n",
      "|       id|      cnpj_editora|data_lancamento|          ean|       isbn10|numero_paginas| preco|\n",
      "+---------+------------------+---------------+-------------+-------------+--------------+------+\n",
      "|102961160|54.317.982/0001-79|     2011-09-19|4367115749184|0-06-594558-1|           516|113.84|\n",
      "|043636240|16.938.042/0001-08|     2019-05-11|1239569754256|0-611-23680-X|           371|207.67|\n",
      "|052928059|57.624.038/0001-52|     2003-08-03|5462162528221|1-109-29542-1|           198|107.89|\n",
      "|088482271|16.249.378/0001-63|     2022-09-07|5713629047213|1-229-68842-0|           632|143.95|\n",
      "|028125446|90.425.178/0001-77|     2011-07-25|2226757040245|0-657-66391-3|           384|156.49|\n",
      "|055610005|20.756.194/0001-67|     2006-03-22|2114468195241|0-455-43278-3|           419| 37.08|\n",
      "|049806867|93.617.240/0001-10|     2022-02-17|3166123637398|1-4822-8784-6|           378|162.97|\n",
      "|102803370|48.760.531/0001-09|     2011-12-13|2550608407612|0-399-05121-X|           732| 75.62|\n",
      "|084858867|10.752.843/0001-06|     2015-04-30|6207011925788|1-03-549652-6|           635|237.67|\n",
      "|059303729|05.129.783/0001-21|     2001-08-25|1641133648784|0-620-46508-5|           107| 61.41|\n",
      "|064175052|65.301.927/0001-07|     2008-05-29|6905480714673|1-876722-64-9|           795| 85.56|\n",
      "|080608956|90.563.247/0001-09|     2011-10-05|0332981484891|1-925760-25-1|           203|107.63|\n",
      "|018453254|95.367.280/0001-87|     2012-11-02|0507454098268|0-609-21722-4|           043| 52.94|\n",
      "|021765997|59.374.801/0001-60|     2014-05-17|4743679337089|1-85580-232-5|           499|143.43|\n",
      "|023911383|98.526.047/0001-98|     2005-11-12|4165252098109|1-369-22273-4|           599| 121.0|\n",
      "|029667220|20.136.498/0001-21|     2008-09-22|9813450961422|0-466-92503-4|           474|175.32|\n",
      "|030099528|28.103.975/0001-64|     2000-02-06|9164658045347|0-904222-71-3|           292|208.39|\n",
      "|034553086|29.507.683/0001-50|     2016-12-29|7318970609554|1-4989-7802-9|           540|113.52|\n",
      "|035350343|25.491.073/0001-54|     2003-11-29|7630092024962|1-957157-95-X|           109| 58.61|\n",
      "|017477529|39.507.184/0001-16|     2005-09-23|5930606400018|1-393-77728-7|           747|232.65|\n",
      "+---------+------------------+---------------+-------------+-------------+--------------+------+\n",
      "only showing top 20 rows\n",
      "\n"
     ]
    }
   ],
   "source": [
    "dfDup = livros = spark.read.parquet('./databases/LIVROS.parquet')\n",
    "dfDupliLivro = livros.union(dfDup)\n",
    "dfDupliLivro.show()"
   ]
  },
  {
   "cell_type": "markdown",
   "metadata": {},
   "source": [
    "# Drop Duplicates"
   ]
  },
  {
   "cell_type": "code",
   "execution_count": 73,
   "metadata": {},
   "outputs": [
    {
     "data": {
      "text/html": [
       "<table border='1'>\n",
       "<tr><th>id</th><th>cnpj_editora</th><th>data_lancamento</th><th>ean</th><th>isbn10</th><th>numero_paginas</th><th>preco</th></tr>\n",
       "<tr><td>052928059</td><td>57.624.038/0001-52</td><td>2003-08-03</td><td>5462162528221</td><td>1-109-29542-1</td><td>198</td><td>107.89</td></tr>\n",
       "<tr><td>106740400</td><td>38.759.012/0001-77</td><td>2002-06-04</td><td>5285919725830</td><td>1-259-58568-9</td><td>750</td><td>101.75</td></tr>\n",
       "<tr><td>053055882</td><td>49.307.825/0001-42</td><td>2012-11-28</td><td>7167295362435</td><td>0-938193-52-X</td><td>209</td><td>25.48</td></tr>\n",
       "<tr><td>066137179</td><td>39.048.726/0001-30</td><td>2009-07-29</td><td>8506933121253</td><td>1-4076-7531-1</td><td>511</td><td>137.59</td></tr>\n",
       "<tr><td>084858867</td><td>10.752.843/0001-06</td><td>2015-04-30</td><td>6207011925788</td><td>1-03-549652-6</td><td>635</td><td>237.67</td></tr>\n",
       "<tr><td>020600053</td><td>48.235.609/0001-76</td><td>2009-04-16</td><td>1659684622498</td><td>0-566-37606-7</td><td>553</td><td>147.71</td></tr>\n",
       "<tr><td>031345103</td><td>46.732.150/0001-90</td><td>2005-10-05</td><td>4903478185889</td><td>1-903929-82-2</td><td>784</td><td>211.47</td></tr>\n",
       "<tr><td>021673584</td><td>45.391.672/0001-03</td><td>2016-04-01</td><td>3082795652555</td><td>1-939599-03-2</td><td>775</td><td>39.67</td></tr>\n",
       "<tr><td>080608956</td><td>90.563.247/0001-09</td><td>2011-10-05</td><td>0332981484891</td><td>1-925760-25-1</td><td>203</td><td>107.63</td></tr>\n",
       "<tr><td>037289959</td><td>59.420.681/0001-90</td><td>2000-05-17</td><td>3783551239774</td><td>1-4158-9787-5</td><td>125</td><td>145.34</td></tr>\n",
       "<tr><td>092496868</td><td>87.254.910/0001-89</td><td>2014-07-25</td><td>4756465265695</td><td>0-09-780034-1</td><td>025</td><td>184.07</td></tr>\n",
       "<tr><td>049141690</td><td>95.037.812/0001-18</td><td>2016-12-24</td><td>9032214793899</td><td>1-4076-9870-2</td><td>454</td><td>210.52</td></tr>\n",
       "<tr><td>010249547</td><td>10.345.968/0001-03</td><td>2017-12-04</td><td>7005400578046</td><td>0-7705-1411-1</td><td>246</td><td>81.2</td></tr>\n",
       "<tr><td>037248893</td><td>13.267.045/0001-79</td><td>2004-08-02</td><td>2798168784648</td><td>0-363-27483-9</td><td>910</td><td>45.08</td></tr>\n",
       "<tr><td>015410737</td><td>50.394.127/0001-00</td><td>2016-11-07</td><td>3910666329483</td><td>0-12-063098-2</td><td>530</td><td>69.29</td></tr>\n",
       "<tr><td>018369429</td><td>40.913.756/0001-46</td><td>2020-02-01</td><td>6036179960825</td><td>0-11-763546-4</td><td>545</td><td>109.88</td></tr>\n",
       "<tr><td>027666993</td><td>79.154.630/0001-70</td><td>2004-11-09</td><td>7776463558220</td><td>0-503-60219-1</td><td>654</td><td>116.96</td></tr>\n",
       "<tr><td>025331136</td><td>13.649.820/0001-50</td><td>2001-04-17</td><td>6928869770794</td><td>0-337-49672-2</td><td>919</td><td>133.42</td></tr>\n",
       "<tr><td>095695255</td><td>94.567.038/0001-94</td><td>2015-04-23</td><td>4084520465552</td><td>0-7650-7381-1</td><td>572</td><td>83.33</td></tr>\n",
       "<tr><td>011267609</td><td>65.470.981/0001-86</td><td>2007-07-27</td><td>6524135816526</td><td>1-80516-004-4</td><td>297</td><td>62.96</td></tr>\n",
       "</table>\n",
       "only showing top 20 rows\n"
      ],
      "text/plain": [
       "+---------+------------------+---------------+-------------+-------------+--------------+------+\n",
       "|       id|      cnpj_editora|data_lancamento|          ean|       isbn10|numero_paginas| preco|\n",
       "+---------+------------------+---------------+-------------+-------------+--------------+------+\n",
       "|052928059|57.624.038/0001-52|     2003-08-03|5462162528221|1-109-29542-1|           198|107.89|\n",
       "|106740400|38.759.012/0001-77|     2002-06-04|5285919725830|1-259-58568-9|           750|101.75|\n",
       "|053055882|49.307.825/0001-42|     2012-11-28|7167295362435|0-938193-52-X|           209| 25.48|\n",
       "|066137179|39.048.726/0001-30|     2009-07-29|8506933121253|1-4076-7531-1|           511|137.59|\n",
       "|084858867|10.752.843/0001-06|     2015-04-30|6207011925788|1-03-549652-6|           635|237.67|\n",
       "|020600053|48.235.609/0001-76|     2009-04-16|1659684622498|0-566-37606-7|           553|147.71|\n",
       "|031345103|46.732.150/0001-90|     2005-10-05|4903478185889|1-903929-82-2|           784|211.47|\n",
       "|021673584|45.391.672/0001-03|     2016-04-01|3082795652555|1-939599-03-2|           775| 39.67|\n",
       "|080608956|90.563.247/0001-09|     2011-10-05|0332981484891|1-925760-25-1|           203|107.63|\n",
       "|037289959|59.420.681/0001-90|     2000-05-17|3783551239774|1-4158-9787-5|           125|145.34|\n",
       "|092496868|87.254.910/0001-89|     2014-07-25|4756465265695|0-09-780034-1|           025|184.07|\n",
       "|049141690|95.037.812/0001-18|     2016-12-24|9032214793899|1-4076-9870-2|           454|210.52|\n",
       "|010249547|10.345.968/0001-03|     2017-12-04|7005400578046|0-7705-1411-1|           246|  81.2|\n",
       "|037248893|13.267.045/0001-79|     2004-08-02|2798168784648|0-363-27483-9|           910| 45.08|\n",
       "|015410737|50.394.127/0001-00|     2016-11-07|3910666329483|0-12-063098-2|           530| 69.29|\n",
       "|018369429|40.913.756/0001-46|     2020-02-01|6036179960825|0-11-763546-4|           545|109.88|\n",
       "|027666993|79.154.630/0001-70|     2004-11-09|7776463558220|0-503-60219-1|           654|116.96|\n",
       "|025331136|13.649.820/0001-50|     2001-04-17|6928869770794|0-337-49672-2|           919|133.42|\n",
       "|095695255|94.567.038/0001-94|     2015-04-23|4084520465552|0-7650-7381-1|           572| 83.33|\n",
       "|011267609|65.470.981/0001-86|     2007-07-27|6524135816526|1-80516-004-4|           297| 62.96|\n",
       "+---------+------------------+---------------+-------------+-------------+--------------+------+\n",
       "only showing top 20 rows"
      ]
     },
     "execution_count": 73,
     "metadata": {},
     "output_type": "execute_result"
    }
   ],
   "source": [
    "dfDupliLivro.dropDuplicates()\n"
   ]
  },
  {
   "cell_type": "markdown",
   "metadata": {},
   "source": [
    "# Column Functions"
   ]
  },
  {
   "cell_type": "code",
   "execution_count": 94,
   "metadata": {},
   "outputs": [
    {
     "data": {
      "text/html": [
       "<table border='1'>\n",
       "<tr><th>cpf</th><th>email</th><th>senha</th><th>data_de_nascimento</th><th>estado</th><th>data_cadastro</th><th>ipv4</th><th>cor_favorita</th><th>profissao</th><th>telefone</th><th>tel</th></tr>\n",
       "<tr><td>786.132.594-64</td><td>vinicius86@yahoo....</td><td>)0UFwLnQeY</td><td>1935-07-29</td><td>MA</td><td>2023-02-25</td><td>142.49.53.78</td><td>Amarelo</td><td>Geólogo</td><td>+55 41 8499 1550</td><td>null</td></tr>\n",
       "<tr><td>486.970.253-38</td><td>isabelly04@uol.co...</td><td>9n8Gsa#7&amp;*</td><td>1934-11-26</td><td>AM</td><td>2023-03-03</td><td>30.212.117.133</td><td>Ciano</td><td>Triatleta</td><td>+55 51 5926 5593</td><td>null</td></tr>\n",
       "<tr><td>957.184.360-10</td><td>thomas46@hotmail.com</td><td>(nHUASneS4</td><td>1993-03-13</td><td>CE</td><td>2023-02-25</td><td>192.177.35.142</td><td>Roxo</td><td>Judoca</td><td>(084) 3806-6915</td><td>null</td></tr>\n",
       "<tr><td>493.705.168-75</td><td>rezendeisaac@hotm...</td><td>_O_2GRnGOe</td><td>1992-06-17</td><td>GO</td><td>2023-02-16</td><td>197.11.26.213</td><td>Ciano</td><td>Atleta De Arremes...</td><td>(031) 0803-6753</td><td>null</td></tr>\n",
       "<tr><td>573.619.804-57</td><td>hnogueira@ig.com.br</td><td>&amp;9Ejtll$PF</td><td>1949-03-06</td><td>SP</td><td>2023-01-27</td><td>168.162.247.252</td><td>Cinza</td><td>Instalador De Lin...</td><td>(031) 9148 3933</td><td>null</td></tr>\n",
       "<tr><td>092.618.354-06</td><td>stellamoraes@bol....</td><td>mw0AWYAs#s</td><td>2021-06-01</td><td>AC</td><td>2023-01-08</td><td>26.121.127.94</td><td>Marrom</td><td>Aeromoça</td><td>+55 (071) 3033 9177</td><td>null</td></tr>\n",
       "<tr><td>170.965.428-76</td><td>qdias@gmail.com</td><td>6z5AgU_##v</td><td>1995-08-17</td><td>GO</td><td>2023-02-02</td><td>197.248.140.141</td><td>Verde</td><td>Auditor</td><td>84 9168 0488</td><td>null</td></tr>\n",
       "<tr><td>218.795.460-94</td><td>da-conceicaodavi-...</td><td>uhBbFxPA&amp;9</td><td>1986-05-19</td><td>MG</td><td>2023-03-07</td><td>192.93.0.24</td><td>Rosa</td><td>Taxista</td><td>+55 84 0652 9691</td><td>null</td></tr>\n",
       "<tr><td>475.698.032-56</td><td>wnunes@bol.com.br</td><td>_8az1W%n7g</td><td>1996-05-12</td><td>SE</td><td>2023-02-04</td><td>139.196.176.154</td><td>Azul</td><td>Cadeirinha</td><td>(071) 1640-3388</td><td>null</td></tr>\n",
       "<tr><td>348.215.690-51</td><td>omoreira@bol.com.br</td><td>!8maDkdVnY</td><td>2008-10-24</td><td>MG</td><td>2023-02-20</td><td>177.2.242.176</td><td>Verde Escuro</td><td>Adestrador De Ani...</td><td>+55 61 3217-9930</td><td>null</td></tr>\n",
       "<tr><td>261.938.750-77</td><td>murilo05@gmail.com</td><td>Te&amp;gO7GkKs</td><td>1917-01-05</td><td>MT</td><td>2023-02-21</td><td>136.54.123.165</td><td>Marrom</td><td>Técnico De Som</td><td>+55 (084) 5878-3346</td><td>null</td></tr>\n",
       "<tr><td>875.130.249-79</td><td>da-rocharebeca@ho...</td><td>FlOoH0I6)6</td><td>1972-10-05</td><td>PE</td><td>2023-02-11</td><td>126.171.28.31</td><td>Violeta</td><td>Modelista</td><td>+55 84 1130-9822</td><td>null</td></tr>\n",
       "<tr><td>509.287.143-14</td><td>pmendes@gmail.com</td><td>M+^XDBfe(2</td><td>1938-03-11</td><td>RR</td><td>2023-01-19</td><td>61.234.208.17</td><td>Verde Claro</td><td>Fiscal</td><td>+55 (084) 5940-1932</td><td>null</td></tr>\n",
       "<tr><td>439.107.528-88</td><td>costagabriel@gmai...</td><td>^+kLpbkVw2</td><td>1960-01-05</td><td>DF</td><td>2023-02-05</td><td>122.151.20.128</td><td>Amarelo</td><td>Neurocirurgião</td><td>+55 61 4028-1911</td><td>null</td></tr>\n",
       "<tr><td>098.712.346-78</td><td>manuelada-rosa@ho...</td><td>#hEIEOztQ3</td><td>2013-01-10</td><td>SE</td><td>2023-01-07</td><td>175.18.73.211</td><td>Violeta</td><td>Seguidor De Compras</td><td>51 0278 0564</td><td>null</td></tr>\n",
       "<tr><td>498.071.356-48</td><td>davi47@bol.com.br</td><td>$XJ)MDIUj7</td><td>1985-08-25</td><td>MA</td><td>2023-03-10</td><td>211.146.130.224</td><td>Azul</td><td>Lenhador</td><td>0800 449 6212</td><td>null</td></tr>\n",
       "<tr><td>318.254.906-51</td><td>pereiranicolas@ho...</td><td>YA9I85Wb+2</td><td>1945-11-18</td><td>MA</td><td>2023-01-24</td><td>182.195.33.137</td><td>Amarelo</td><td>Consultor De Moda</td><td>(084) 4591 3795</td><td>null</td></tr>\n",
       "<tr><td>740.925.183-23</td><td>leandrodas-neves@...</td><td>_0EL5chQXe</td><td>2012-04-15</td><td>BA</td><td>2023-01-14</td><td>52.7.88.35</td><td>Azul Escuro</td><td>Jogador De Hóquei</td><td>61 3040-6271</td><td>null</td></tr>\n",
       "<tr><td>615.790.842-49</td><td>brenda39@ig.com.br</td><td>XS$84Hpsnw</td><td>1964-02-01</td><td>RJ</td><td>2023-02-16</td><td>21.252.226.29</td><td>Branco</td><td>Promotor De Vendas</td><td>+55 (021) 4751 2004</td><td>null</td></tr>\n",
       "<tr><td>807.695.421-58</td><td>joao-guilhermeda-...</td><td>Z^9Og04O*(</td><td>2008-11-04</td><td>GO</td><td>2023-01-06</td><td>45.56.63.111</td><td>Roxo</td><td>Promotor De Eventos</td><td>+55 81 9388-4795</td><td>null</td></tr>\n",
       "</table>\n",
       "only showing top 20 rows\n"
      ],
      "text/plain": [
       "+--------------+--------------------+----------+------------------+------+-------------+---------------+------------+--------------------+-------------------+----+\n",
       "|           cpf|               email|     senha|data_de_nascimento|estado|data_cadastro|           ipv4|cor_favorita|           profissao|           telefone| tel|\n",
       "+--------------+--------------------+----------+------------------+------+-------------+---------------+------------+--------------------+-------------------+----+\n",
       "|786.132.594-64|vinicius86@yahoo....|)0UFwLnQeY|        1935-07-29|    MA|   2023-02-25|   142.49.53.78|     Amarelo|             Geólogo|   +55 41 8499 1550|null|\n",
       "|486.970.253-38|isabelly04@uol.co...|9n8Gsa#7&*|        1934-11-26|    AM|   2023-03-03| 30.212.117.133|       Ciano|           Triatleta|   +55 51 5926 5593|null|\n",
       "|957.184.360-10|thomas46@hotmail.com|(nHUASneS4|        1993-03-13|    CE|   2023-02-25| 192.177.35.142|        Roxo|              Judoca|    (084) 3806-6915|null|\n",
       "|493.705.168-75|rezendeisaac@hotm...|_O_2GRnGOe|        1992-06-17|    GO|   2023-02-16|  197.11.26.213|       Ciano|Atleta De Arremes...|    (031) 0803-6753|null|\n",
       "|573.619.804-57| hnogueira@ig.com.br|&9Ejtll$PF|        1949-03-06|    SP|   2023-01-27|168.162.247.252|       Cinza|Instalador De Lin...|    (031) 9148 3933|null|\n",
       "|092.618.354-06|stellamoraes@bol....|mw0AWYAs#s|        2021-06-01|    AC|   2023-01-08|  26.121.127.94|      Marrom|            Aeromoça|+55 (071) 3033 9177|null|\n",
       "|170.965.428-76|     qdias@gmail.com|6z5AgU_##v|        1995-08-17|    GO|   2023-02-02|197.248.140.141|       Verde|             Auditor|       84 9168 0488|null|\n",
       "|218.795.460-94|da-conceicaodavi-...|uhBbFxPA&9|        1986-05-19|    MG|   2023-03-07|    192.93.0.24|        Rosa|             Taxista|   +55 84 0652 9691|null|\n",
       "|475.698.032-56|   wnunes@bol.com.br|_8az1W%n7g|        1996-05-12|    SE|   2023-02-04|139.196.176.154|        Azul|          Cadeirinha|    (071) 1640-3388|null|\n",
       "|348.215.690-51| omoreira@bol.com.br|!8maDkdVnY|        2008-10-24|    MG|   2023-02-20|  177.2.242.176|Verde Escuro|Adestrador De Ani...|   +55 61 3217-9930|null|\n",
       "|261.938.750-77|  murilo05@gmail.com|Te&gO7GkKs|        1917-01-05|    MT|   2023-02-21| 136.54.123.165|      Marrom|      Técnico De Som|+55 (084) 5878-3346|null|\n",
       "|875.130.249-79|da-rocharebeca@ho...|FlOoH0I6)6|        1972-10-05|    PE|   2023-02-11|  126.171.28.31|     Violeta|           Modelista|   +55 84 1130-9822|null|\n",
       "|509.287.143-14|   pmendes@gmail.com|M+^XDBfe(2|        1938-03-11|    RR|   2023-01-19|  61.234.208.17| Verde Claro|              Fiscal|+55 (084) 5940-1932|null|\n",
       "|439.107.528-88|costagabriel@gmai...|^+kLpbkVw2|        1960-01-05|    DF|   2023-02-05| 122.151.20.128|     Amarelo|      Neurocirurgião|   +55 61 4028-1911|null|\n",
       "|098.712.346-78|manuelada-rosa@ho...|#hEIEOztQ3|        2013-01-10|    SE|   2023-01-07|  175.18.73.211|     Violeta| Seguidor De Compras|       51 0278 0564|null|\n",
       "|498.071.356-48|   davi47@bol.com.br|$XJ)MDIUj7|        1985-08-25|    MA|   2023-03-10|211.146.130.224|        Azul|            Lenhador|      0800 449 6212|null|\n",
       "|318.254.906-51|pereiranicolas@ho...|YA9I85Wb+2|        1945-11-18|    MA|   2023-01-24| 182.195.33.137|     Amarelo|   Consultor De Moda|    (084) 4591 3795|null|\n",
       "|740.925.183-23|leandrodas-neves@...|_0EL5chQXe|        2012-04-15|    BA|   2023-01-14|     52.7.88.35| Azul Escuro|   Jogador De Hóquei|       61 3040-6271|null|\n",
       "|615.790.842-49|  brenda39@ig.com.br|XS$84Hpsnw|        1964-02-01|    RJ|   2023-02-16|  21.252.226.29|      Branco|  Promotor De Vendas|+55 (021) 4751 2004|null|\n",
       "|807.695.421-58|joao-guilhermeda-...|Z^9Og04O*(|        2008-11-04|    GO|   2023-01-06|   45.56.63.111|        Roxo| Promotor De Eventos|   +55 81 9388-4795|null|\n",
       "+--------------+--------------------+----------+------------------+------+-------------+---------------+------------+--------------------+-------------------+----+\n",
       "only showing top 20 rows"
      ]
     },
     "execution_count": 94,
     "metadata": {},
     "output_type": "execute_result"
    }
   ],
   "source": [
    "(\n",
    "    df\n",
    "    .withColumn('tel',F.regexp_replace('telefone','(\\D)','').cast('int'))\n",
    "    .orderBy(F.asc('tel'))\n",
    "    .orderBy(F.asc_nulls_first('tel'))\n",
    "    \n",
    "    # .printSchema()\n",
    "    # .show(12)\n",
    ")"
   ]
  },
  {
   "cell_type": "code",
   "execution_count": 106,
   "metadata": {},
   "outputs": [
    {
     "data": {
      "text/html": [
       "<table border='1'>\n",
       "<tr><th>cpf</th><th>email</th><th>senha</th><th>data_de_nascimento</th><th>estado</th><th>data_cadastro</th><th>ipv4</th><th>cor_favorita</th><th>profissao</th><th>telefone</th></tr>\n",
       "<tr><td>615.790.842-49</td><td>brenda39@ig.com.br</td><td>XS$84Hpsnw</td><td>1964-02-01</td><td>RJ</td><td>2023-02-16</td><td>21.252.226.29</td><td>Branco</td><td>Promotor De Vendas</td><td>+55 (021) 4751 2004</td></tr>\n",
       "<tr><td>573.619.804-57</td><td>hnogueira@ig.com.br</td><td>&amp;9Ejtll$PF</td><td>1949-03-06</td><td>SP</td><td>2023-01-27</td><td>168.162.247.252</td><td>Cinza</td><td>Instalador De Lin...</td><td>(031) 9148 3933</td></tr>\n",
       "<tr><td>734.801.926-96</td><td>pedro-miguel43@bo...</td><td>*72CCJdxX0</td><td>1965-09-14</td><td>SP</td><td>2023-02-22</td><td>222.145.189.67</td><td>Roxo</td><td>Coach</td><td>51 9026 3441</td></tr>\n",
       "<tr><td>869.072.315-30</td><td>luiz-gustavorocha...</td><td>$62UN05c(9</td><td>1980-10-19</td><td>SP</td><td>2023-01-04</td><td>53.167.75.100</td><td>Verde Claro</td><td>Lactarista Hospit...</td><td>+55 31 1296 8466</td></tr>\n",
       "<tr><td>384.716.209-87</td><td>talmeida@hotmail.com</td><td>k8IP9(Kz_v</td><td>1955-04-23</td><td>RJ</td><td>2023-03-06</td><td>120.159.158.101</td><td>Violeta</td><td>Catador De Materi...</td><td>+55 (051) 5573 2964</td></tr>\n",
       "<tr><td>291.358.407-14</td><td>lavinia54@ig.com.br</td><td>NyI@+8Kd!1</td><td>1982-01-28</td><td>SP</td><td>2023-02-26</td><td>79.132.46.55</td><td>Preto</td><td>Profissional De R...</td><td>+55 51 5526 8284</td></tr>\n",
       "<tr><td>460.125.983-51</td><td>lazevedo@gmail.com</td><td>uC0O7QdE&amp;B</td><td>1972-07-14</td><td>SP</td><td>2023-01-24</td><td>221.155.104.128</td><td>Preto</td><td>Atleta De Arremes...</td><td>+55 71 9251-1645</td></tr>\n",
       "<tr><td>837.410.256-07</td><td>martinsmaysa@bol....</td><td>(Z8RNs%un6</td><td>1972-08-21</td><td>SP</td><td>2023-02-24</td><td>157.119.230.252</td><td>Cinza</td><td>Laboratorista</td><td>+55 (084) 4945-6200</td></tr>\n",
       "<tr><td>730.184.526-07</td><td>fviana@ig.com.br</td><td>1(3oLDln$8</td><td>1938-10-23</td><td>SP</td><td>2023-03-02</td><td>99.31.171.138</td><td>Verde Escuro</td><td>Profissional De I...</td><td>0900-429-5628</td></tr>\n",
       "<tr><td>248.376.051-17</td><td>dmoura@hotmail.com</td><td>k7&amp;TpiJa%b</td><td>2022-09-01</td><td>RJ</td><td>2023-02-25</td><td>84.59.19.142</td><td>Branco</td><td>Jogador De Handebol</td><td>+55 (021) 3753-6334</td></tr>\n",
       "<tr><td>542.719.036-80</td><td>maria-luiza65@uol...</td><td>3)Uv_W0j(!</td><td>1982-07-26</td><td>RJ</td><td>2023-01-18</td><td>187.98.240.67</td><td>Rosa</td><td>Diplomata</td><td>+55 (021) 7739-9396</td></tr>\n",
       "<tr><td>874.092.613-31</td><td>bruno71@yahoo.com.br</td><td>HF1FfNe5&amp;H</td><td>1946-11-25</td><td>SP</td><td>2023-03-03</td><td>14.80.253.67</td><td>Violeta</td><td>Confeiteiro</td><td>(084) 0687-3775</td></tr>\n",
       "<tr><td>325.047.689-74</td><td>emanuella26@gmail...</td><td>r7pQOb%l)O</td><td>1944-05-13</td><td>RJ</td><td>2023-02-19</td><td>157.219.232.212</td><td>Roxo</td><td>Kite-Surfer</td><td>(041) 2315 8540</td></tr>\n",
       "<tr><td>490.372.518-97</td><td>castrocatarina@gm...</td><td>8hQ)9EiVZP</td><td>1983-06-10</td><td>SP</td><td>2023-01-21</td><td>5.188.180.112</td><td>Azul Escuro</td><td>Epidemiólogo</td><td>61 5994-2692</td></tr>\n",
       "<tr><td>765.430.982-10</td><td>gabrielcunha@bol....</td><td>*de30DhmcY</td><td>2002-05-23</td><td>RJ</td><td>2023-01-19</td><td>10.158.51.13</td><td>Verde Escuro</td><td>Camelô</td><td>+55 (011) 6838 1339</td></tr>\n",
       "<tr><td>918.524.730-88</td><td>moreiralivia@uol....</td><td>o3Yi$eNs_n</td><td>1914-01-17</td><td>RJ</td><td>2023-01-22</td><td>63.34.144.217</td><td>Laranja</td><td>Agente De Defesa ...</td><td>11 2462 1478</td></tr>\n",
       "<tr><td>065.879.124-94</td><td>moreiraisabel@hot...</td><td>t+3h0Usq#E</td><td>2001-05-02</td><td>RJ</td><td>2023-02-22</td><td>90.107.110.81</td><td>Azul</td><td>Capataz</td><td>+55 81 4097 2278</td></tr>\n",
       "<tr><td>281.465.937-55</td><td>smoreira@uol.com.br</td><td>mj9W(cda0%</td><td>1920-10-17</td><td>RJ</td><td>2023-02-18</td><td>164.98.61.242</td><td>Verde</td><td>Escoteiro</td><td>+55 51 9615 2486</td></tr>\n",
       "<tr><td>970.182.634-50</td><td>limapedro-henriqu...</td><td>&amp;yMB4Axn4P</td><td>1970-04-26</td><td>RJ</td><td>2023-01-16</td><td>19.244.177.143</td><td>Branco</td><td>Produtor Musical</td><td>71 2253-3903</td></tr>\n",
       "<tr><td>914.528.630-24</td><td>da-cruzjoaquim@gm...</td><td>v#o7OgfF&amp;4</td><td>1951-01-03</td><td>SP</td><td>2023-01-01</td><td>82.252.94.185</td><td>Cinza</td><td>Ombudsman</td><td>(031) 4940-4068</td></tr>\n",
       "</table>\n",
       "only showing top 20 rows\n"
      ],
      "text/plain": [
       "+--------------+--------------------+----------+------------------+------+-------------+---------------+------------+--------------------+-------------------+\n",
       "|           cpf|               email|     senha|data_de_nascimento|estado|data_cadastro|           ipv4|cor_favorita|           profissao|           telefone|\n",
       "+--------------+--------------------+----------+------------------+------+-------------+---------------+------------+--------------------+-------------------+\n",
       "|615.790.842-49|  brenda39@ig.com.br|XS$84Hpsnw|        1964-02-01|    RJ|   2023-02-16|  21.252.226.29|      Branco|  Promotor De Vendas|+55 (021) 4751 2004|\n",
       "|573.619.804-57| hnogueira@ig.com.br|&9Ejtll$PF|        1949-03-06|    SP|   2023-01-27|168.162.247.252|       Cinza|Instalador De Lin...|    (031) 9148 3933|\n",
       "|734.801.926-96|pedro-miguel43@bo...|*72CCJdxX0|        1965-09-14|    SP|   2023-02-22| 222.145.189.67|        Roxo|               Coach|       51 9026 3441|\n",
       "|869.072.315-30|luiz-gustavorocha...|$62UN05c(9|        1980-10-19|    SP|   2023-01-04|  53.167.75.100| Verde Claro|Lactarista Hospit...|   +55 31 1296 8466|\n",
       "|384.716.209-87|talmeida@hotmail.com|k8IP9(Kz_v|        1955-04-23|    RJ|   2023-03-06|120.159.158.101|     Violeta|Catador De Materi...|+55 (051) 5573 2964|\n",
       "|291.358.407-14| lavinia54@ig.com.br|NyI@+8Kd!1|        1982-01-28|    SP|   2023-02-26|   79.132.46.55|       Preto|Profissional De R...|   +55 51 5526 8284|\n",
       "|460.125.983-51|  lazevedo@gmail.com|uC0O7QdE&B|        1972-07-14|    SP|   2023-01-24|221.155.104.128|       Preto|Atleta De Arremes...|   +55 71 9251-1645|\n",
       "|837.410.256-07|martinsmaysa@bol....|(Z8RNs%un6|        1972-08-21|    SP|   2023-02-24|157.119.230.252|       Cinza|       Laboratorista|+55 (084) 4945-6200|\n",
       "|730.184.526-07|    fviana@ig.com.br|1(3oLDln$8|        1938-10-23|    SP|   2023-03-02|  99.31.171.138|Verde Escuro|Profissional De I...|      0900-429-5628|\n",
       "|248.376.051-17|  dmoura@hotmail.com|k7&TpiJa%b|        2022-09-01|    RJ|   2023-02-25|   84.59.19.142|      Branco| Jogador De Handebol|+55 (021) 3753-6334|\n",
       "|542.719.036-80|maria-luiza65@uol...|3)Uv_W0j(!|        1982-07-26|    RJ|   2023-01-18|  187.98.240.67|        Rosa|           Diplomata|+55 (021) 7739-9396|\n",
       "|874.092.613-31|bruno71@yahoo.com.br|HF1FfNe5&H|        1946-11-25|    SP|   2023-03-03|   14.80.253.67|     Violeta|         Confeiteiro|    (084) 0687-3775|\n",
       "|325.047.689-74|emanuella26@gmail...|r7pQOb%l)O|        1944-05-13|    RJ|   2023-02-19|157.219.232.212|        Roxo|         Kite-Surfer|    (041) 2315 8540|\n",
       "|490.372.518-97|castrocatarina@gm...|8hQ)9EiVZP|        1983-06-10|    SP|   2023-01-21|  5.188.180.112| Azul Escuro|        Epidemiólogo|       61 5994-2692|\n",
       "|765.430.982-10|gabrielcunha@bol....|*de30DhmcY|        2002-05-23|    RJ|   2023-01-19|   10.158.51.13|Verde Escuro|              Camelô|+55 (011) 6838 1339|\n",
       "|918.524.730-88|moreiralivia@uol....|o3Yi$eNs_n|        1914-01-17|    RJ|   2023-01-22|  63.34.144.217|     Laranja|Agente De Defesa ...|       11 2462 1478|\n",
       "|065.879.124-94|moreiraisabel@hot...|t+3h0Usq#E|        2001-05-02|    RJ|   2023-02-22|  90.107.110.81|        Azul|             Capataz|   +55 81 4097 2278|\n",
       "|281.465.937-55| smoreira@uol.com.br|mj9W(cda0%|        1920-10-17|    RJ|   2023-02-18|  164.98.61.242|       Verde|           Escoteiro|   +55 51 9615 2486|\n",
       "|970.182.634-50|limapedro-henriqu...|&yMB4Axn4P|        1970-04-26|    RJ|   2023-01-16| 19.244.177.143|      Branco|    Produtor Musical|       71 2253-3903|\n",
       "|914.528.630-24|da-cruzjoaquim@gm...|v#o7OgfF&4|        1951-01-03|    SP|   2023-01-01|  82.252.94.185|       Cinza|           Ombudsman|    (031) 4940-4068|\n",
       "+--------------+--------------------+----------+------------------+------+-------------+---------------+------------+--------------------+-------------------+\n",
       "only showing top 20 rows"
      ]
     },
     "execution_count": 106,
     "metadata": {},
     "output_type": "execute_result"
    }
   ],
   "source": [
    "(\n",
    "df\n",
    "# .where(F.year('data_de_nascimento').between(2012,2015))\n",
    "# .where(F.col('email').contains('joao'))\n",
    "# .where(F.col('email').endswith('.br'))\n",
    ".where(F.col('estado').isin('SP','RJ'))\n",
    ".where(F.col('telefone').isNotNull())\n",
    ")"
   ]
  },
  {
   "cell_type": "markdown",
   "metadata": {},
   "source": [
    "# Pivot"
   ]
  },
  {
   "cell_type": "code",
   "execution_count": 124,
   "metadata": {},
   "outputs": [
    {
     "data": {
      "text/html": [
       "<table border='1'>\n",
       "<tr><th>cartao_bandeira</th><th>mes</th><th>January</th><th>February</th></tr>\n",
       "<tr><td>Discover</td><td>June</td><td>null</td><td>null</td></tr>\n",
       "<tr><td>American Express</td><td>February</td><td>null</td><td>353</td></tr>\n",
       "<tr><td>VISA 19 digit</td><td>July</td><td>null</td><td>null</td></tr>\n",
       "<tr><td>American Express</td><td>May</td><td>null</td><td>null</td></tr>\n",
       "<tr><td>VISA 19 digit</td><td>October</td><td>null</td><td>null</td></tr>\n",
       "<tr><td>American Express</td><td>December</td><td>null</td><td>null</td></tr>\n",
       "<tr><td>VISA 16 digit</td><td>November</td><td>null</td><td>null</td></tr>\n",
       "<tr><td>Mastercard</td><td>August</td><td>null</td><td>null</td></tr>\n",
       "<tr><td>JCB 16 digit</td><td>July</td><td>null</td><td>null</td></tr>\n",
       "<tr><td>JCB 15 digit</td><td>March</td><td>null</td><td>null</td></tr>\n",
       "<tr><td>Diners Club / Car...</td><td>October</td><td>null</td><td>null</td></tr>\n",
       "<tr><td>VISA 13 digit</td><td>August</td><td>null</td><td>null</td></tr>\n",
       "<tr><td>Diners Club / Car...</td><td>April</td><td>null</td><td>null</td></tr>\n",
       "<tr><td>Discover</td><td>September</td><td>null</td><td>null</td></tr>\n",
       "<tr><td>JCB 15 digit</td><td>May</td><td>null</td><td>null</td></tr>\n",
       "<tr><td>VISA 13 digit</td><td>November</td><td>null</td><td>null</td></tr>\n",
       "<tr><td>JCB 15 digit</td><td>February</td><td>null</td><td>374</td></tr>\n",
       "<tr><td>VISA 16 digit</td><td>February</td><td>null</td><td>772</td></tr>\n",
       "<tr><td>VISA 19 digit</td><td>January</td><td>437</td><td>null</td></tr>\n",
       "<tr><td>JCB 15 digit</td><td>June</td><td>null</td><td>null</td></tr>\n",
       "</table>\n",
       "only showing top 20 rows\n"
      ],
      "text/plain": [
       "+--------------------+---------+-------+--------+\n",
       "|     cartao_bandeira|      mes|January|February|\n",
       "+--------------------+---------+-------+--------+\n",
       "|            Discover|     June|   null|    null|\n",
       "|    American Express| February|   null|     353|\n",
       "|       VISA 19 digit|     July|   null|    null|\n",
       "|    American Express|      May|   null|    null|\n",
       "|       VISA 19 digit|  October|   null|    null|\n",
       "|    American Express| December|   null|    null|\n",
       "|       VISA 16 digit| November|   null|    null|\n",
       "|          Mastercard|   August|   null|    null|\n",
       "|        JCB 16 digit|     July|   null|    null|\n",
       "|        JCB 15 digit|    March|   null|    null|\n",
       "|Diners Club / Car...|  October|   null|    null|\n",
       "|       VISA 13 digit|   August|   null|    null|\n",
       "|Diners Club / Car...|    April|   null|    null|\n",
       "|            Discover|September|   null|    null|\n",
       "|        JCB 15 digit|      May|   null|    null|\n",
       "|       VISA 13 digit| November|   null|    null|\n",
       "|        JCB 15 digit| February|   null|     374|\n",
       "|       VISA 16 digit| February|   null|     772|\n",
       "|       VISA 19 digit|  January|    437|    null|\n",
       "|        JCB 15 digit|     June|   null|    null|\n",
       "+--------------------+---------+-------+--------+\n",
       "only showing top 20 rows"
      ]
     },
     "execution_count": 124,
     "metadata": {},
     "output_type": "execute_result"
    }
   ],
   "source": [
    "(\n",
    "    compras\n",
    "    .withColumn('mes',F.date_format('data','MMMM'))\n",
    "    .groupBy('cartao_bandeira', 'mes')\n",
    "    .pivot('mes',['January','February'])\n",
    "    .agg(F.count('*').alias('Quantidade'))\n",
    "    \n",
    ")"
   ]
  },
  {
   "cell_type": "code",
   "execution_count": null,
   "metadata": {},
   "outputs": [],
   "source": []
  }
 ],
 "metadata": {
  "kernelspec": {
   "display_name": "base",
   "language": "python",
   "name": "python3"
  },
  "language_info": {
   "codemirror_mode": {
    "name": "ipython",
    "version": 3
   },
   "file_extension": ".py",
   "mimetype": "text/x-python",
   "name": "python",
   "nbconvert_exporter": "python",
   "pygments_lexer": "ipython3",
   "version": "3.10.9"
  }
 },
 "nbformat": 4,
 "nbformat_minor": 2
}
